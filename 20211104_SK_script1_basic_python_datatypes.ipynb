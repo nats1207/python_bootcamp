{
 "cells": [
  {
   "cell_type": "markdown",
   "metadata": {},
   "source": [
    "This is a markdown cell\n",
    "\n",
    "# Use # for a Heading\n",
    "## Use ## for a Heading 2\n",
    "### Use ### for a Heading 3\n",
    "\n",
    "**Use ** - ** for bold text**\n",
    "\n",
    "*Use * - * for italic text*\n",
    "\n",
    "Bullet points\n",
    "* Use a * for a bullit point\n",
    "* And another *\n",
    "\n",
    "Numbered points\n",
    "1. Use 1. for a numbered point\n",
    "2. And 2."
   ]
  },
  {
   "cell_type": "markdown",
   "metadata": {},
   "source": [
    "# Variable assignment"
   ]
  },
  {
   "cell_type": "code",
   "execution_count": 9,
   "metadata": {},
   "outputs": [
    {
     "data": {
      "text/plain": [
       "5"
      ]
     },
     "execution_count": 9,
     "metadata": {},
     "output_type": "execute_result"
    }
   ],
   "source": [
    "# declare variables\n",
    "x = 5\n",
    "x"
   ]
  },
  {
   "cell_type": "markdown",
   "metadata": {},
   "source": [
    "# Data types and structures"
   ]
  },
  {
   "cell_type": "markdown",
   "metadata": {},
   "source": [
    "## Integer (primitive)"
   ]
  },
  {
   "cell_type": "code",
   "execution_count": 12,
   "metadata": {},
   "outputs": [
    {
     "data": {
      "text/plain": [
       "int"
      ]
     },
     "execution_count": 12,
     "metadata": {},
     "output_type": "execute_result"
    }
   ],
   "source": [
    "a = 10\n",
    "type(a)"
   ]
  },
  {
   "cell_type": "markdown",
   "metadata": {},
   "source": [
    "## Float (primitive)"
   ]
  },
  {
   "cell_type": "code",
   "execution_count": 13,
   "metadata": {},
   "outputs": [
    {
     "data": {
      "text/plain": [
       "float"
      ]
     },
     "execution_count": 13,
     "metadata": {},
     "output_type": "execute_result"
    }
   ],
   "source": [
    "b = 2.1\n",
    "type(b)"
   ]
  },
  {
   "cell_type": "markdown",
   "metadata": {},
   "source": [
    "## String (primitive)"
   ]
  },
  {
   "cell_type": "code",
   "execution_count": 28,
   "metadata": {},
   "outputs": [
    {
     "name": "stdout",
     "output_type": "stream",
     "text": [
      "Test this string with ' sign\n",
      "This is a line with a \n",
      " break\n",
      "\"This is a quote\" - Stan\n",
      "\"This is also a quote\" - Stan\n",
      "Print a \\\n",
      "is is also a quote\" - Stan\n",
      "\"This\n",
      "This\n"
     ]
    }
   ],
   "source": [
    "c = \"Test this string with ' sign\"\n",
    "d = \"This is a line with a \\n break\"\n",
    "e = '\"This is a quote\" - Stan'\n",
    "f = \"\\\"This is also a quote\\\" - Stan\"\n",
    "g = \"Print a \\\\\"\n",
    "print(c)\n",
    "print(d)\n",
    "print(e)\n",
    "print(f)\n",
    "print(g)\n",
    "type(c)\n",
    "\n",
    "# slicing (include first index, but excludes the last index)\n",
    "print(f[3:])\n",
    "print(f[:5])\n",
    "print(f[1:5])"
   ]
  },
  {
   "cell_type": "markdown",
   "metadata": {},
   "source": [
    "## Boolean (primitive)"
   ]
  },
  {
   "cell_type": "code",
   "execution_count": 30,
   "metadata": {},
   "outputs": [
    {
     "name": "stdout",
     "output_type": "stream",
     "text": [
      "<class 'bool'>\n"
     ]
    },
    {
     "data": {
      "text/plain": [
       "False"
      ]
     },
     "execution_count": 30,
     "metadata": {},
     "output_type": "execute_result"
    }
   ],
   "source": [
    "d = True\n",
    "print(type(d))\n",
    "\n",
    "h = 1\n",
    "i = 2\n",
    "h == i"
   ]
  },
  {
   "cell_type": "markdown",
   "metadata": {},
   "source": [
    "## List (non-primitive)"
   ]
  },
  {
   "cell_type": "code",
   "execution_count": 62,
   "metadata": {},
   "outputs": [
    {
     "name": "stdout",
     "output_type": "stream",
     "text": [
      "[1, 2, 3, 4, 5, 6, 7, 8, 9, 10]\n",
      "[1, 2, 3, 'String', True, [1, 3, 6]]\n",
      "3\n",
      "6\n",
      "[3, True]\n",
      "[1, 3, 6]\n",
      "[[1, 3, 6], True, 'String', 3, 2, 1]\n",
      "[100, 2, 3, 'String', True, [1, 3, 6]]\n",
      "[100, 2, 3, 'String', True, [1, 3, 6], 200]\n",
      "[100, 2, 3, 'String', True, [1, 3, 6], 200, 300, 301, 302]\n",
      "[100, 2, 'Inserted at index 2', 3, 'String', True, [1, 3, 6], 200, 300, 301, 302]\n",
      "[100, 'Inserted at index 2', 3, 'String', True, [1, 3, 6], 200, 300, 301, 302]\n",
      "[100, 'Inserted at index 2', 3, True, [1, 3, 6], 200, 300, 301, 302]\n",
      "[302, 301, 300, 200, [1, 3, 6], True, 3, 'Inserted at index 2', 100]\n",
      "9\n",
      "1\n",
      "[1, 2, 3, 'String', True, [1, 3, 6], 302, 301, 300, 200, [1, 3, 6], True, 3, 'Inserted at index 2', 100]\n",
      "[302, 301, 300, 200, [1, 3, 6], True, 3, 'Inserted at index 2', 100, 302, 301, 300, 200, [1, 3, 6], True, 3, 'Inserted at index 2', 100]\n",
      "3\n",
      "[1, 2, 3, 5, 8]\n",
      "[]\n"
     ]
    }
   ],
   "source": [
    "a_list = [1, 2, 3, 4, 5, 6, 7, 8, 9, 10]\n",
    "print(a_list)\n",
    "\n",
    "# combine datatype into one list\n",
    "b_list = [1, 2, 3, \"String\", True, [1, 3, 6]]\n",
    "print(b_list)\n",
    "\n",
    "# slicing\n",
    "print(b_list[2])\n",
    "print(b_list[5][2])\n",
    "\n",
    "# slicing and skipping data\n",
    "print(b_list[2:7:2])\n",
    "print(b_list[-1])       # last value from list\n",
    "print(b_list[::-1])     # reverse a list\n",
    "\n",
    "# set value in list\n",
    "c_list = b_list.copy()\n",
    "c_list[0] = 100\n",
    "print(c_list)\n",
    "\n",
    "# add one value to list\n",
    "c_list.append(200)\n",
    "print(c_list)\n",
    "\n",
    "# add multiple values to list\n",
    "c_list.extend([300, 301, 302])\n",
    "print(c_list)\n",
    "\n",
    "# add value at specific indix\n",
    "c_list.insert(2, \"Inserted at index 2\")\n",
    "print(c_list)\n",
    "\n",
    "# remove value from list\n",
    "c_list.remove(2)\n",
    "print(c_list)\n",
    "\n",
    "# remove value at specific index\n",
    "c_list.pop(3)\n",
    "print(c_list)\n",
    "\n",
    "# resverse a list\n",
    "c_list.reverse()\n",
    "print(c_list)\n",
    "\n",
    "# length of a list\n",
    "print(len(c_list))\n",
    "\n",
    "# count number of occurences of a values in list\n",
    "print(c_list.count(200))\n",
    "\n",
    "# add two lists together\n",
    "concat_list = b_list + c_list\n",
    "print(concat_list)\n",
    "\n",
    "# multiply a list\n",
    "multiply_list = c_list * 2\n",
    "print(multiply_list)\n",
    "\n",
    "# find index of first occurence of value\n",
    "print(multiply_list.index(200))\n",
    "\n",
    "# sort a list\n",
    "sort_list = [2, 5, 1, 3, 8]\n",
    "sort_list.sort()\n",
    "print(sort_list)\n",
    "\n",
    "# truncate the list\n",
    "sort_list.clear()\n",
    "print(sort_list)\n",
    "\n",
    "# list of all list operations: https://www.educba.com/list-operations-in-python/\n"
   ]
  },
  {
   "cell_type": "markdown",
   "metadata": {},
   "source": [
    "## Tuple (non-primitive)"
   ]
  },
  {
   "cell_type": "code",
   "execution_count": 63,
   "metadata": {},
   "outputs": [],
   "source": [
    "# a tuple is a list that cannot be modified\n",
    "# main use are outputs of python methods or classes\n",
    "a_tuple = (1, 2, 3, 4, 5)"
   ]
  },
  {
   "cell_type": "markdown",
   "metadata": {},
   "source": [
    "## Dictionary (non-primitive)"
   ]
  },
  {
   "cell_type": "code",
   "execution_count": 69,
   "metadata": {},
   "outputs": [
    {
     "name": "stdout",
     "output_type": "stream",
     "text": [
      "[1, 2, 3, 4]\n",
      "[1, 2, 3, 4]\n"
     ]
    }
   ],
   "source": [
    "# key, value pairs\n",
    "# can be useful when working with tables\n",
    "a_dict = {\"key\":\"value\", \"multiple\":[1, 2, 3, 4]}\n",
    "\n",
    "# get a value from the dictionary using the key\n",
    "print(a_dict.get(\"multiple\"))\n",
    "print(a_dict[\"multiple\"])\n"
   ]
  },
  {
   "cell_type": "markdown",
   "metadata": {},
   "source": [
    "## Set (non-primitive)"
   ]
  },
  {
   "cell_type": "code",
   "execution_count": 70,
   "metadata": {},
   "outputs": [
    {
     "name": "stdout",
     "output_type": "stream",
     "text": [
      "{1, 2, 'Value'}\n"
     ]
    }
   ],
   "source": [
    "# an unordered, unchangeable way to store multiple variables without duplicates\n",
    "a_set = {\"Value\", 1, 2, 1}\n",
    "print(a_set)"
   ]
  },
  {
   "cell_type": "markdown",
   "metadata": {},
   "source": [
    "# Operations"
   ]
  },
  {
   "cell_type": "markdown",
   "metadata": {},
   "source": [
    "## Arithmetic"
   ]
  },
  {
   "cell_type": "code",
   "execution_count": 78,
   "metadata": {},
   "outputs": [
    {
     "name": "stdout",
     "output_type": "stream",
     "text": [
      "[1, 2, 3, 1, 2, 3, 1, 2, 3]\n",
      "strstr\n",
      "1\n",
      "3\n"
     ]
    }
   ],
   "source": [
    "# add\n",
    "add = 2 + 3\n",
    "mult_list = [1, 2, 3] * 3\n",
    "print(mult_list)\n",
    "\n",
    "str_add = \"str\" + \"str\"\n",
    "print(str_add)\n",
    "\n",
    "# modulo\n",
    "modulo = 10 % 3  # Gives you the the remainder of a division operation\n",
    "print(modulo)\n",
    "\n",
    "# floor division\n",
    "floor_division = 7 // 2  # Gives you the largest multiple, in this case it's 3\n",
    "print(floor_division)"
   ]
  },
  {
   "cell_type": "markdown",
   "metadata": {},
   "source": [
    "## Assignment"
   ]
  },
  {
   "cell_type": "code",
   "execution_count": 76,
   "metadata": {},
   "outputs": [
    {
     "name": "stdout",
     "output_type": "stream",
     "text": [
      "9\n"
     ]
    }
   ],
   "source": [
    "# see https://www.w3schools.com/python/python_operators.asp\n",
    "a = 3\n",
    "a *= 3\n",
    "print(a)"
   ]
  },
  {
   "cell_type": "markdown",
   "metadata": {},
   "source": [
    "## Comparison"
   ]
  },
  {
   "cell_type": "code",
   "execution_count": 80,
   "metadata": {},
   "outputs": [
    {
     "name": "stdout",
     "output_type": "stream",
     "text": [
      "True\n",
      "True\n",
      "False\n",
      "True\n",
      "True\n",
      "True\n"
     ]
    }
   ],
   "source": [
    "print(3 == 3)  # Equals\n",
    "\n",
    "print(3 != 4)  # Does not equal\n",
    "\n",
    "print(3 > 4)  # Greater than\n",
    "\n",
    "print(3 < 5) # Less than\n",
    "\n",
    "print(2 >= 2)  # Greater than or equal to\n",
    "\n",
    "print(4 <= 4)  # Less than or equal to"
   ]
  },
  {
   "cell_type": "markdown",
   "metadata": {},
   "source": [
    "## Bitwise"
   ]
  },
  {
   "cell_type": "code",
   "execution_count": 81,
   "metadata": {},
   "outputs": [],
   "source": [
    "# see: https://wiki.python.org/moin/BitwiseOperators"
   ]
  },
  {
   "cell_type": "markdown",
   "metadata": {},
   "source": [
    "## Logical operators"
   ]
  },
  {
   "cell_type": "code",
   "execution_count": 82,
   "metadata": {},
   "outputs": [
    {
     "data": {
      "text/plain": [
       "False"
      ]
     },
     "execution_count": 82,
     "metadata": {},
     "output_type": "execute_result"
    }
   ],
   "source": [
    "3 == 3 and 2 <= 5  # Returns true if both operations are true\n",
    "3 == 3 or 2 <= 1  # Returns true if one operation is true\n",
    "not(3 == 3 and 2 <= 5)  # Returns the opposite (False in this case)"
   ]
  },
  {
   "cell_type": "markdown",
   "metadata": {},
   "source": [
    "## Membership"
   ]
  },
  {
   "cell_type": "code",
   "execution_count": 83,
   "metadata": {},
   "outputs": [
    {
     "data": {
      "text/plain": [
       "True"
      ]
     },
     "execution_count": 83,
     "metadata": {},
     "output_type": "execute_result"
    }
   ],
   "source": [
    "\"T\" in \"TRDFSADFASD\"\n",
    "\"z\" not in [\"a\", 123, 14, 41, 41, 4]"
   ]
  },
  {
   "cell_type": "markdown",
   "metadata": {},
   "source": [
    "# Functions"
   ]
  },
  {
   "cell_type": "code",
   "execution_count": 84,
   "metadata": {},
   "outputs": [
    {
     "data": {
      "text/plain": [
       "7"
      ]
     },
     "execution_count": 84,
     "metadata": {},
     "output_type": "execute_result"
    }
   ],
   "source": [
    "def function_name(x, y, z):\n",
    "\treturn x + y + z  # The \"return\" tells Python what to output from a function\n",
    "\n",
    "\n",
    "function_name(x=1, y=2, z=3)  # This is how we call a function\n",
    "\n",
    "# You can also call it like this by letting Python assume your arguments are in order\n",
    "function_name(1, 2, 3)\n",
    "\n",
    "# You can also not specify earlier arguments, but specify later ones\n",
    "function_name(1, 2, z=4)\n",
    "\n",
    "# This is not valid (Python doesn't know what arguments to match 2 and 3 with\n",
    "# function_name(x=1, 2, 3)\n"
   ]
  },
  {
   "cell_type": "markdown",
   "metadata": {},
   "source": [
    "# Control statements"
   ]
  },
  {
   "cell_type": "markdown",
   "metadata": {},
   "source": [
    "## For loop"
   ]
  },
  {
   "cell_type": "code",
   "execution_count": 86,
   "metadata": {},
   "outputs": [
    {
     "name": "stdout",
     "output_type": "stream",
     "text": [
      "5\n",
      "6\n",
      "7\n",
      "8\n",
      "9\n",
      "10\n",
      "11\n"
     ]
    }
   ],
   "source": [
    "# range creates a sequence of values between the two arguments\n",
    "the_list = range(3, 10)\n",
    "\n",
    "for i in the_list:  # This is how you start a for loop\n",
    "    i += 2  # \"i\" represents the value of the sequence you're on\n",
    "    print(i)\n"
   ]
  },
  {
   "cell_type": "markdown",
   "metadata": {},
   "source": [
    "## While loop"
   ]
  },
  {
   "cell_type": "code",
   "execution_count": 87,
   "metadata": {},
   "outputs": [
    {
     "name": "stdout",
     "output_type": "stream",
     "text": [
      "1\n",
      "2\n",
      "3\n",
      "4\n",
      "5\n"
     ]
    }
   ],
   "source": [
    "x = 0\n",
    "\n",
    "while x < 5:  # The condition that has to be true for this loop to continue\n",
    "    x += 1  # These are the calculations that are performed each loop\n",
    "    print(x)\n"
   ]
  },
  {
   "cell_type": "markdown",
   "metadata": {},
   "source": [
    "## If - then"
   ]
  },
  {
   "cell_type": "code",
   "execution_count": 88,
   "metadata": {},
   "outputs": [
    {
     "name": "stdout",
     "output_type": "stream",
     "text": [
      "x is less than y\n"
     ]
    }
   ],
   "source": [
    "x = 3\n",
    "y = 5\n",
    "\n",
    "if x == y:\n",
    "    print(\"x equals y\")\n",
    "elif x > y:\n",
    "    print(\"x is greater than y\")\n",
    "else:\n",
    "    print(\"x is less than y\")\n"
   ]
  },
  {
   "cell_type": "markdown",
   "metadata": {},
   "source": [
    "## Try - except"
   ]
  },
  {
   "cell_type": "code",
   "execution_count": 1,
   "metadata": {},
   "outputs": [
    {
     "name": "stdout",
     "output_type": "stream",
     "text": [
      "Can't divide by 0\n"
     ]
    }
   ],
   "source": [
    "try:\n",
    "    2 / 0  # You can't divide by 0 and this will throw an exception\n",
    "except ZeroDivisionError:\n",
    "    print(\"Can't divide by 0\")\n"
   ]
  },
  {
   "cell_type": "markdown",
   "metadata": {},
   "source": [
    "## With"
   ]
  },
  {
   "cell_type": "code",
   "execution_count": 3,
   "metadata": {},
   "outputs": [
    {
     "ename": "FileNotFoundError",
     "evalue": "[Errno 2] No such file or directory: 'dog_breeds.txt'",
     "output_type": "error",
     "traceback": [
      "\u001b[0;31m---------------------------------------------------------------------------\u001b[0m",
      "\u001b[0;31mFileNotFoundError\u001b[0m                         Traceback (most recent call last)",
      "\u001b[0;32m/var/folders/jg/1ck3yxvn1sn72cwsg5c615740000gn/T/ipykernel_1763/3177047322.py\u001b[0m in \u001b[0;36m<module>\u001b[0;34m\u001b[0m\n\u001b[1;32m      2\u001b[0m \u001b[0;31m# often used for opening and reading files\u001b[0m\u001b[0;34m\u001b[0m\u001b[0;34m\u001b[0m\u001b[0m\n\u001b[1;32m      3\u001b[0m \u001b[0;34m\u001b[0m\u001b[0m\n\u001b[0;32m----> 4\u001b[0;31m \u001b[0;32mwith\u001b[0m \u001b[0mopen\u001b[0m\u001b[0;34m(\u001b[0m\u001b[0;34m'dog_breeds.txt'\u001b[0m\u001b[0;34m,\u001b[0m \u001b[0;34m'rb'\u001b[0m\u001b[0;34m)\u001b[0m \u001b[0;32mas\u001b[0m \u001b[0mreader\u001b[0m\u001b[0;34m:\u001b[0m\u001b[0;34m\u001b[0m\u001b[0;34m\u001b[0m\u001b[0m\n\u001b[0m\u001b[1;32m      5\u001b[0m         \u001b[0mprint\u001b[0m\u001b[0;34m(\u001b[0m\u001b[0;34m\"File has been read\"\u001b[0m\u001b[0;34m)\u001b[0m\u001b[0;34m\u001b[0m\u001b[0;34m\u001b[0m\u001b[0m\n",
      "\u001b[0;31mFileNotFoundError\u001b[0m: [Errno 2] No such file or directory: 'dog_breeds.txt'"
     ]
    }
   ],
   "source": [
    "# see https://www.geeksforgeeks.org/with-statement-in-python/\n",
    "# often used for opening and reading files\n",
    "\n",
    "with open('dog_breeds.txt', 'rb') as reader:\n",
    "\tprint(\"File has been read\")"
   ]
  },
  {
   "cell_type": "markdown",
   "metadata": {},
   "source": [
    "# NumPy"
   ]
  },
  {
   "cell_type": "markdown",
   "metadata": {},
   "source": [
    "## Arays"
   ]
  },
  {
   "cell_type": "code",
   "execution_count": 12,
   "metadata": {},
   "outputs": [
    {
     "name": "stdout",
     "output_type": "stream",
     "text": [
      "[2 3 4]\n",
      "[[2 3 4]\n",
      " [5 6 2]]\n",
      "[[[2 3]\n",
      "  [4 5]]\n",
      "\n",
      " [[6 2]\n",
      "  [3 5]]]\n"
     ]
    }
   ],
   "source": [
    "import numpy as np\n",
    "\n",
    "# always use a list to create an array in NumPy\n",
    "a = np.array([2,3,4])\n",
    "print(a)\n",
    "\n",
    "# 2-dimensional array\n",
    "c = np.array([2, 3, 4, 5, 6, 2]).reshape(2, 3)\n",
    "print(c)\n",
    "\n",
    "# 3-dimensional array\n",
    "d = np.array([2, 3, 4, 5, 6, 2, 3, 5]).reshape(2, 2, 2)\n",
    "print(d)\n"
   ]
  },
  {
   "cell_type": "markdown",
   "metadata": {},
   "source": [
    "## NumPy calculations"
   ]
  },
  {
   "cell_type": "code",
   "execution_count": 14,
   "metadata": {},
   "outputs": [
    {
     "name": "stdout",
     "output_type": "stream",
     "text": [
      "21\n",
      "1\n",
      "6\n",
      "3.5\n"
     ]
    }
   ],
   "source": [
    "e = np.array([1, 2, 3, 4, 5, 6])\n",
    "print(e.sum())  # Sum the array\n",
    "print(e.min())  # Find the minimum value in an array\n",
    "print(e.max())  # Find the maximum value in an array\n",
    "print(e.mean())  # Find the arithmetic mean of an array\n"
   ]
  },
  {
   "cell_type": "markdown",
   "metadata": {},
   "source": [
    "## Special NumPy arrays"
   ]
  },
  {
   "cell_type": "code",
   "execution_count": 16,
   "metadata": {},
   "outputs": [
    {
     "name": "stdout",
     "output_type": "stream",
     "text": [
      "[0. 0. 0. 0. 0.]\n",
      "[0.         0.66666667 1.33333333 2.         2.66666667 3.33333333\n",
      " 4.         4.66666667 5.33333333 6.        ]\n",
      "[0.32091911 0.9737301  0.23607773]\n",
      "931\n",
      "[ 0  1  2  3  4  5  6  7  8  9 10 11 12 13 14 15 16 17 18 19 20 21 22 23\n",
      " 24]\n"
     ]
    }
   ],
   "source": [
    "print(np.zeros(5))  # Creates an array of zeros with 5 elements\n",
    "# Creates an array of values from 0 through 6 in 10 even spaces\n",
    "print(np.linspace(0, 6, 10))\n",
    "print(np.random.rand(3))  # Three random values between 0 and 1\n",
    "print(np.random.randint(1, 1000))  # A random integer between 1 and 1000\n",
    "# Like the \"Range\" function we learned earlier, this is gives you a range of integers between 1 - 25\n",
    "print(np.arange(25))\n"
   ]
  },
  {
   "cell_type": "code",
   "execution_count": null,
   "metadata": {},
   "outputs": [],
   "source": []
  }
 ],
 "metadata": {
  "interpreter": {
   "hash": "782ddef903958b86d95e9a08b305c4b0549957147be54c254983ad7c0b674ea5"
  },
  "kernelspec": {
   "display_name": "Python 3.9.7 64-bit ('minimal_ds': conda)",
   "language": "python",
   "name": "python3"
  },
  "language_info": {
   "codemirror_mode": {
    "name": "ipython",
    "version": 3
   },
   "file_extension": ".py",
   "mimetype": "text/x-python",
   "name": "python",
   "nbconvert_exporter": "python",
   "pygments_lexer": "ipython3",
   "version": "3.9.7"
  },
  "orig_nbformat": 4
 },
 "nbformat": 4,
 "nbformat_minor": 2
}
