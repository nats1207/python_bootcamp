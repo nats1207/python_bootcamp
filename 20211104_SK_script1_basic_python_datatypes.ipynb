{
 "cells": [
  {
   "cell_type": "markdown",
   "metadata": {},
   "source": [
    "This is a markdown cell\n",
    "\n",
    "# Use # for a Heading\n",
    "## Use ## for a Heading 2\n",
    "### Use ### for a Heading 3\n",
    "\n",
    "**Use ** - ** for bold text**\n",
    "\n",
    "*Use * - * for italic text*\n",
    "\n",
    "Bullet points\n",
    "* Use a * for a bullit point\n",
    "* And another *\n",
    "\n",
    "Numbered points\n",
    "1. Use 1. for a numbered point\n",
    "2. And 2."
   ]
  },
  {
   "cell_type": "markdown",
   "metadata": {},
   "source": [
    "# Variable assignment"
   ]
  },
  {
   "cell_type": "code",
   "execution_count": 9,
   "metadata": {},
   "outputs": [
    {
     "data": {
      "text/plain": [
       "5"
      ]
     },
     "execution_count": 9,
     "metadata": {},
     "output_type": "execute_result"
    }
   ],
   "source": [
    "# declare variables\n",
    "x = 5\n",
    "x"
   ]
  },
  {
   "cell_type": "markdown",
   "metadata": {},
   "source": [
    "# Data types and structures"
   ]
  },
  {
   "cell_type": "markdown",
   "metadata": {},
   "source": [
    "## Integer (primitive)"
   ]
  },
  {
   "cell_type": "code",
   "execution_count": 12,
   "metadata": {},
   "outputs": [
    {
     "data": {
      "text/plain": [
       "int"
      ]
     },
     "execution_count": 12,
     "metadata": {},
     "output_type": "execute_result"
    }
   ],
   "source": [
    "a = 10\n",
    "type(a)"
   ]
  },
  {
   "cell_type": "markdown",
   "metadata": {},
   "source": [
    "## Float (primitive)"
   ]
  },
  {
   "cell_type": "code",
   "execution_count": 13,
   "metadata": {},
   "outputs": [
    {
     "data": {
      "text/plain": [
       "float"
      ]
     },
     "execution_count": 13,
     "metadata": {},
     "output_type": "execute_result"
    }
   ],
   "source": [
    "b = 2.1\n",
    "type(b)"
   ]
  },
  {
   "cell_type": "markdown",
   "metadata": {},
   "source": [
    "## String (primitive)"
   ]
  },
  {
   "cell_type": "code",
   "execution_count": 28,
   "metadata": {},
   "outputs": [
    {
     "name": "stdout",
     "output_type": "stream",
     "text": [
      "Test this string with ' sign\n",
      "This is a line with a \n",
      " break\n",
      "\"This is a quote\" - Stan\n",
      "\"This is also a quote\" - Stan\n",
      "Print a \\\n",
      "is is also a quote\" - Stan\n",
      "\"This\n",
      "This\n"
     ]
    }
   ],
   "source": [
    "c = \"Test this string with ' sign\"\n",
    "d = \"This is a line with a \\n break\"\n",
    "e = '\"This is a quote\" - Stan'\n",
    "f = \"\\\"This is also a quote\\\" - Stan\"\n",
    "g = \"Print a \\\\\"\n",
    "print(c)\n",
    "print(d)\n",
    "print(e)\n",
    "print(f)\n",
    "print(g)\n",
    "type(c)\n",
    "\n",
    "# slicing (include first index, but excludes the last index)\n",
    "print(f[3:])\n",
    "print(f[:5])\n",
    "print(f[1:5])"
   ]
  },
  {
   "cell_type": "markdown",
   "metadata": {},
   "source": [
    "## Boolean (primitive)"
   ]
  },
  {
   "cell_type": "code",
   "execution_count": 30,
   "metadata": {},
   "outputs": [
    {
     "name": "stdout",
     "output_type": "stream",
     "text": [
      "<class 'bool'>\n"
     ]
    },
    {
     "data": {
      "text/plain": [
       "False"
      ]
     },
     "execution_count": 30,
     "metadata": {},
     "output_type": "execute_result"
    }
   ],
   "source": [
    "d = True\n",
    "print(type(d))\n",
    "\n",
    "h = 1\n",
    "i = 2\n",
    "h == i"
   ]
  },
  {
   "cell_type": "markdown",
   "metadata": {},
   "source": [
    "## List (non-primitive)"
   ]
  },
  {
   "cell_type": "code",
   "execution_count": 62,
   "metadata": {},
   "outputs": [
    {
     "name": "stdout",
     "output_type": "stream",
     "text": [
      "[1, 2, 3, 4, 5, 6, 7, 8, 9, 10]\n",
      "[1, 2, 3, 'String', True, [1, 3, 6]]\n",
      "3\n",
      "6\n",
      "[3, True]\n",
      "[1, 3, 6]\n",
      "[[1, 3, 6], True, 'String', 3, 2, 1]\n",
      "[100, 2, 3, 'String', True, [1, 3, 6]]\n",
      "[100, 2, 3, 'String', True, [1, 3, 6], 200]\n",
      "[100, 2, 3, 'String', True, [1, 3, 6], 200, 300, 301, 302]\n",
      "[100, 2, 'Inserted at index 2', 3, 'String', True, [1, 3, 6], 200, 300, 301, 302]\n",
      "[100, 'Inserted at index 2', 3, 'String', True, [1, 3, 6], 200, 300, 301, 302]\n",
      "[100, 'Inserted at index 2', 3, True, [1, 3, 6], 200, 300, 301, 302]\n",
      "[302, 301, 300, 200, [1, 3, 6], True, 3, 'Inserted at index 2', 100]\n",
      "9\n",
      "1\n",
      "[1, 2, 3, 'String', True, [1, 3, 6], 302, 301, 300, 200, [1, 3, 6], True, 3, 'Inserted at index 2', 100]\n",
      "[302, 301, 300, 200, [1, 3, 6], True, 3, 'Inserted at index 2', 100, 302, 301, 300, 200, [1, 3, 6], True, 3, 'Inserted at index 2', 100]\n",
      "3\n",
      "[1, 2, 3, 5, 8]\n",
      "[]\n"
     ]
    }
   ],
   "source": [
    "a_list = [1, 2, 3, 4, 5, 6, 7, 8, 9, 10]\n",
    "print(a_list)\n",
    "\n",
    "# combine datatype into one list\n",
    "b_list = [1, 2, 3, \"String\", True, [1, 3, 6]]\n",
    "print(b_list)\n",
    "\n",
    "# slicing\n",
    "print(b_list[2])\n",
    "print(b_list[5][2])\n",
    "\n",
    "# slicing and skipping data\n",
    "print(b_list[2:7:2])\n",
    "print(b_list[-1])       # last value from list\n",
    "print(b_list[::-1])     # reverse a list\n",
    "\n",
    "# set value in list\n",
    "c_list = b_list.copy()\n",
    "c_list[0] = 100\n",
    "print(c_list)\n",
    "\n",
    "# add one value to list\n",
    "c_list.append(200)\n",
    "print(c_list)\n",
    "\n",
    "# add multiple values to list\n",
    "c_list.extend([300, 301, 302])\n",
    "print(c_list)\n",
    "\n",
    "# add value at specific indix\n",
    "c_list.insert(2, \"Inserted at index 2\")\n",
    "print(c_list)\n",
    "\n",
    "# remove value from list\n",
    "c_list.remove(2)\n",
    "print(c_list)\n",
    "\n",
    "# remove value at specific index\n",
    "c_list.pop(3)\n",
    "print(c_list)\n",
    "\n",
    "# resverse a list\n",
    "c_list.reverse()\n",
    "print(c_list)\n",
    "\n",
    "# length of a list\n",
    "print(len(c_list))\n",
    "\n",
    "# count number of occurences of a values in list\n",
    "print(c_list.count(200))\n",
    "\n",
    "# add two lists together\n",
    "concat_list = b_list + c_list\n",
    "print(concat_list)\n",
    "\n",
    "# multiply a list\n",
    "multiply_list = c_list * 2\n",
    "print(multiply_list)\n",
    "\n",
    "# find index of first occurence of value\n",
    "print(multiply_list.index(200))\n",
    "\n",
    "# sort a list\n",
    "sort_list = [2, 5, 1, 3, 8]\n",
    "sort_list.sort()\n",
    "print(sort_list)\n",
    "\n",
    "# truncate the list\n",
    "sort_list.clear()\n",
    "print(sort_list)\n",
    "\n",
    "# list of all list operations: https://www.educba.com/list-operations-in-python/\n"
   ]
  },
  {
   "cell_type": "markdown",
   "metadata": {},
   "source": [
    "## Tuple (non-primitive)"
   ]
  },
  {
   "cell_type": "code",
   "execution_count": 63,
   "metadata": {},
   "outputs": [],
   "source": [
    "# a tuple is a list that cannot be modified\n",
    "# main use are outputs of python methods or classes\n",
    "a_tuple = (1, 2, 3, 4, 5)"
   ]
  },
  {
   "cell_type": "markdown",
   "metadata": {},
   "source": [
    "## Dictionary (non-primitive)"
   ]
  },
  {
   "cell_type": "code",
   "execution_count": 69,
   "metadata": {},
   "outputs": [
    {
     "name": "stdout",
     "output_type": "stream",
     "text": [
      "[1, 2, 3, 4]\n",
      "[1, 2, 3, 4]\n"
     ]
    }
   ],
   "source": [
    "# key, value pairs\n",
    "# can be useful when working with tables\n",
    "a_dict = {\"key\":\"value\", \"multiple\":[1, 2, 3, 4]}\n",
    "\n",
    "# get a value from the dictionary using the key\n",
    "print(a_dict.get(\"multiple\"))\n",
    "print(a_dict[\"multiple\"])\n"
   ]
  },
  {
   "cell_type": "markdown",
   "metadata": {},
   "source": [
    "## Set (non-primitive)"
   ]
  },
  {
   "cell_type": "code",
   "execution_count": 70,
   "metadata": {},
   "outputs": [
    {
     "name": "stdout",
     "output_type": "stream",
     "text": [
      "{1, 2, 'Value'}\n"
     ]
    }
   ],
   "source": [
    "# an unordered, unchangeable way to store multiple variables without duplicates\n",
    "a_set = {\"Value\", 1, 2, 1}\n",
    "print(a_set)"
   ]
  },
  {
   "cell_type": "markdown",
   "metadata": {},
   "source": [
    "# Operations"
   ]
  },
  {
   "cell_type": "markdown",
   "metadata": {},
   "source": [
    "## Arithmetic"
   ]
  },
  {
   "cell_type": "code",
   "execution_count": 78,
   "metadata": {},
   "outputs": [
    {
     "name": "stdout",
     "output_type": "stream",
     "text": [
      "[1, 2, 3, 1, 2, 3, 1, 2, 3]\n",
      "strstr\n",
      "1\n",
      "3\n"
     ]
    }
   ],
   "source": [
    "# add\n",
    "add = 2 + 3\n",
    "mult_list = [1, 2, 3] * 3\n",
    "print(mult_list)\n",
    "\n",
    "str_add = \"str\" + \"str\"\n",
    "print(str_add)\n",
    "\n",
    "# modulo\n",
    "modulo = 10 % 3  # Gives you the the remainder of a division operation\n",
    "print(modulo)\n",
    "\n",
    "# floor division\n",
    "floor_division = 7 // 2  # Gives you the largest multiple, in this case it's 3\n",
    "print(floor_division)"
   ]
  },
  {
   "cell_type": "markdown",
   "metadata": {},
   "source": [
    "## Assignment"
   ]
  },
  {
   "cell_type": "code",
   "execution_count": 76,
   "metadata": {},
   "outputs": [
    {
     "name": "stdout",
     "output_type": "stream",
     "text": [
      "9\n"
     ]
    }
   ],
   "source": [
    "# see https://www.w3schools.com/python/python_operators.asp\n",
    "a = 3\n",
    "a *= 3\n",
    "print(a)"
   ]
  },
  {
   "cell_type": "markdown",
   "metadata": {},
   "source": [
    "## Comparison"
   ]
  },
  {
   "cell_type": "code",
   "execution_count": 80,
   "metadata": {},
   "outputs": [
    {
     "name": "stdout",
     "output_type": "stream",
     "text": [
      "True\n",
      "True\n",
      "False\n",
      "True\n",
      "True\n",
      "True\n"
     ]
    }
   ],
   "source": [
    "print(3 == 3)  # Equals\n",
    "\n",
    "print(3 != 4)  # Does not equal\n",
    "\n",
    "print(3 > 4)  # Greater than\n",
    "\n",
    "print(3 < 5) # Less than\n",
    "\n",
    "print(2 >= 2)  # Greater than or equal to\n",
    "\n",
    "print(4 <= 4)  # Less than or equal to"
   ]
  },
  {
   "cell_type": "markdown",
   "metadata": {},
   "source": [
    "## Bitwise"
   ]
  },
  {
   "cell_type": "code",
   "execution_count": 81,
   "metadata": {},
   "outputs": [],
   "source": [
    "# see: https://wiki.python.org/moin/BitwiseOperators"
   ]
  },
  {
   "cell_type": "markdown",
   "metadata": {},
   "source": [
    "## Logical operators"
   ]
  },
  {
   "cell_type": "code",
   "execution_count": 82,
   "metadata": {},
   "outputs": [
    {
     "data": {
      "text/plain": [
       "False"
      ]
     },
     "execution_count": 82,
     "metadata": {},
     "output_type": "execute_result"
    }
   ],
   "source": [
    "3 == 3 and 2 <= 5  # Returns true if both operations are true\n",
    "3 == 3 or 2 <= 1  # Returns true if one operation is true\n",
    "not(3 == 3 and 2 <= 5)  # Returns the opposite (False in this case)"
   ]
  },
  {
   "cell_type": "markdown",
   "metadata": {},
   "source": [
    "## Membership"
   ]
  },
  {
   "cell_type": "code",
   "execution_count": 83,
   "metadata": {},
   "outputs": [
    {
     "data": {
      "text/plain": [
       "True"
      ]
     },
     "execution_count": 83,
     "metadata": {},
     "output_type": "execute_result"
    }
   ],
   "source": [
    "\"T\" in \"TRDFSADFASD\"\n",
    "\"z\" not in [\"a\", 123, 14, 41, 41, 4]"
   ]
  },
  {
   "cell_type": "markdown",
   "metadata": {},
   "source": [
    "# Functions"
   ]
  },
  {
   "cell_type": "code",
   "execution_count": 84,
   "metadata": {},
   "outputs": [
    {
     "data": {
      "text/plain": [
       "7"
      ]
     },
     "execution_count": 84,
     "metadata": {},
     "output_type": "execute_result"
    }
   ],
   "source": [
    "def function_name(x, y, z):\n",
    "\treturn x + y + z  # The \"return\" tells Python what to output from a function\n",
    "\n",
    "\n",
    "function_name(x=1, y=2, z=3)  # This is how we call a function\n",
    "\n",
    "# You can also call it like this by letting Python assume your arguments are in order\n",
    "function_name(1, 2, 3)\n",
    "\n",
    "# You can also not specify earlier arguments, but specify later ones\n",
    "function_name(1, 2, z=4)\n",
    "\n",
    "# This is not valid (Python doesn't know what arguments to match 2 and 3 with\n",
    "# function_name(x=1, 2, 3)\n"
   ]
  },
  {
   "cell_type": "markdown",
   "metadata": {},
   "source": [
    "# Control statements"
   ]
  },
  {
   "cell_type": "markdown",
   "metadata": {},
   "source": [
    "## For loop"
   ]
  },
  {
   "cell_type": "code",
   "execution_count": 86,
   "metadata": {},
   "outputs": [
    {
     "name": "stdout",
     "output_type": "stream",
     "text": [
      "5\n",
      "6\n",
      "7\n",
      "8\n",
      "9\n",
      "10\n",
      "11\n"
     ]
    }
   ],
   "source": [
    "# range creates a sequence of values between the two arguments\n",
    "the_list = range(3, 10)\n",
    "\n",
    "for i in the_list:  # This is how you start a for loop\n",
    "    i += 2  # \"i\" represents the value of the sequence you're on\n",
    "    print(i)\n"
   ]
  },
  {
   "cell_type": "markdown",
   "metadata": {},
   "source": [
    "## While loop"
   ]
  },
  {
   "cell_type": "code",
   "execution_count": 87,
   "metadata": {},
   "outputs": [
    {
     "name": "stdout",
     "output_type": "stream",
     "text": [
      "1\n",
      "2\n",
      "3\n",
      "4\n",
      "5\n"
     ]
    }
   ],
   "source": [
    "x = 0\n",
    "\n",
    "while x < 5:  # The condition that has to be true for this loop to continue\n",
    "    x += 1  # These are the calculations that are performed each loop\n",
    "    print(x)\n"
   ]
  },
  {
   "cell_type": "markdown",
   "metadata": {},
   "source": [
    "## If - then"
   ]
  },
  {
   "cell_type": "code",
   "execution_count": 88,
   "metadata": {},
   "outputs": [
    {
     "name": "stdout",
     "output_type": "stream",
     "text": [
      "x is less than y\n"
     ]
    }
   ],
   "source": [
    "x = 3\n",
    "y = 5\n",
    "\n",
    "if x == y:\n",
    "    print(\"x equals y\")\n",
    "elif x > y:\n",
    "    print(\"x is greater than y\")\n",
    "else:\n",
    "    print(\"x is less than y\")\n"
   ]
  },
  {
   "cell_type": "markdown",
   "metadata": {},
   "source": [
    "## Try - except"
   ]
  },
  {
   "cell_type": "code",
   "execution_count": 1,
   "metadata": {},
   "outputs": [
    {
     "name": "stdout",
     "output_type": "stream",
     "text": [
      "Can't divide by 0\n"
     ]
    }
   ],
   "source": [
    "try:\n",
    "    2 / 0  # You can't divide by 0 and this will throw an exception\n",
    "except ZeroDivisionError:\n",
    "    print(\"Can't divide by 0\")\n"
   ]
  },
  {
   "cell_type": "markdown",
   "metadata": {},
   "source": [
    "## With"
   ]
  },
  {
   "cell_type": "code",
   "execution_count": 3,
   "metadata": {},
   "outputs": [
    {
     "ename": "FileNotFoundError",
     "evalue": "[Errno 2] No such file or directory: 'dog_breeds.txt'",
     "output_type": "error",
     "traceback": [
      "\u001b[0;31m---------------------------------------------------------------------------\u001b[0m",
      "\u001b[0;31mFileNotFoundError\u001b[0m                         Traceback (most recent call last)",
      "\u001b[0;32m/var/folders/jg/1ck3yxvn1sn72cwsg5c615740000gn/T/ipykernel_1763/3177047322.py\u001b[0m in \u001b[0;36m<module>\u001b[0;34m\u001b[0m\n\u001b[1;32m      2\u001b[0m \u001b[0;31m# often used for opening and reading files\u001b[0m\u001b[0;34m\u001b[0m\u001b[0;34m\u001b[0m\u001b[0m\n\u001b[1;32m      3\u001b[0m \u001b[0;34m\u001b[0m\u001b[0m\n\u001b[0;32m----> 4\u001b[0;31m \u001b[0;32mwith\u001b[0m \u001b[0mopen\u001b[0m\u001b[0;34m(\u001b[0m\u001b[0;34m'dog_breeds.txt'\u001b[0m\u001b[0;34m,\u001b[0m \u001b[0;34m'rb'\u001b[0m\u001b[0;34m)\u001b[0m \u001b[0;32mas\u001b[0m \u001b[0mreader\u001b[0m\u001b[0;34m:\u001b[0m\u001b[0;34m\u001b[0m\u001b[0;34m\u001b[0m\u001b[0m\n\u001b[0m\u001b[1;32m      5\u001b[0m         \u001b[0mprint\u001b[0m\u001b[0;34m(\u001b[0m\u001b[0;34m\"File has been read\"\u001b[0m\u001b[0;34m)\u001b[0m\u001b[0;34m\u001b[0m\u001b[0;34m\u001b[0m\u001b[0m\n",
      "\u001b[0;31mFileNotFoundError\u001b[0m: [Errno 2] No such file or directory: 'dog_breeds.txt'"
     ]
    }
   ],
   "source": [
    "# see https://www.geeksforgeeks.org/with-statement-in-python/\n",
    "# often used for opening and reading files\n",
    "\n",
    "with open('dog_breeds.txt', 'rb') as reader:\n",
    "\tprint(\"File has been read\")"
   ]
  },
  {
   "cell_type": "markdown",
   "metadata": {},
   "source": [
    "# NumPy"
   ]
  },
  {
   "cell_type": "markdown",
   "metadata": {},
   "source": [
    "## Arays"
   ]
  },
  {
   "cell_type": "code",
   "execution_count": 12,
   "metadata": {},
   "outputs": [
    {
     "name": "stdout",
     "output_type": "stream",
     "text": [
      "[2 3 4]\n",
      "[[2 3 4]\n",
      " [5 6 2]]\n",
      "[[[2 3]\n",
      "  [4 5]]\n",
      "\n",
      " [[6 2]\n",
      "  [3 5]]]\n"
     ]
    }
   ],
   "source": [
    "import numpy as np\n",
    "\n",
    "# always use a list to create an array in NumPy\n",
    "a = np.array([2,3,4])\n",
    "print(a)\n",
    "\n",
    "# 2-dimensional array\n",
    "c = np.array([2, 3, 4, 5, 6, 2]).reshape(2, 3)\n",
    "print(c)\n",
    "\n",
    "# 3-dimensional array\n",
    "d = np.array([2, 3, 4, 5, 6, 2, 3, 5]).reshape(2, 2, 2)\n",
    "print(d)\n"
   ]
  },
  {
   "cell_type": "markdown",
   "metadata": {},
   "source": [
    "## NumPy calculations"
   ]
  },
  {
   "cell_type": "code",
   "execution_count": 14,
   "metadata": {},
   "outputs": [
    {
     "name": "stdout",
     "output_type": "stream",
     "text": [
      "21\n",
      "1\n",
      "6\n",
      "3.5\n"
     ]
    }
   ],
   "source": [
    "e = np.array([1, 2, 3, 4, 5, 6])\n",
    "print(e.sum())  # Sum the array\n",
    "print(e.min())  # Find the minimum value in an array\n",
    "print(e.max())  # Find the maximum value in an array\n",
    "print(e.mean())  # Find the arithmetic mean of an array\n"
   ]
  },
  {
   "cell_type": "markdown",
   "metadata": {},
   "source": [
    "## Special NumPy arrays"
   ]
  },
  {
   "cell_type": "code",
   "execution_count": 16,
   "metadata": {},
   "outputs": [
    {
     "name": "stdout",
     "output_type": "stream",
     "text": [
      "[0. 0. 0. 0. 0.]\n",
      "[0.         0.66666667 1.33333333 2.         2.66666667 3.33333333\n",
      " 4.         4.66666667 5.33333333 6.        ]\n",
      "[0.32091911 0.9737301  0.23607773]\n",
      "931\n",
      "[ 0  1  2  3  4  5  6  7  8  9 10 11 12 13 14 15 16 17 18 19 20 21 22 23\n",
      " 24]\n"
     ]
    }
   ],
   "source": [
    "print(np.zeros(5))  # Creates an array of zeros with 5 elements\n",
    "# Creates an array of values from 0 through 6 in 10 even spaces\n",
    "print(np.linspace(0, 6, 10))\n",
    "print(np.random.rand(3))  # Three random values between 0 and 1\n",
    "print(np.random.randint(1, 1000))  # A random integer between 1 and 1000\n",
    "# Like the \"Range\" function we learned earlier, this is gives you a range of integers between 1 - 25\n",
    "print(np.arange(25))\n"
   ]
  },
  {
   "cell_type": "markdown",
   "metadata": {},
   "source": [
    "# Pandas"
   ]
  },
  {
   "cell_type": "code",
   "execution_count": 23,
   "metadata": {},
   "outputs": [],
   "source": [
    "import pandas as pd"
   ]
  },
  {
   "cell_type": "markdown",
   "metadata": {},
   "source": [
    "## Series"
   ]
  },
  {
   "cell_type": "code",
   "execution_count": 22,
   "metadata": {},
   "outputs": [
    {
     "data": {
      "text/plain": [
       "0      1\n",
       "1      2\n",
       "2      3\n",
       "3      4\n",
       "4      5\n",
       "      ..\n",
       "94    95\n",
       "95    96\n",
       "96    97\n",
       "97    98\n",
       "98    99\n",
       "Length: 99, dtype: int64"
      ]
     },
     "execution_count": 22,
     "metadata": {},
     "output_type": "execute_result"
    }
   ],
   "source": [
    "# the basis of pandas are dataframes\n",
    "# they consist of series: an indexed list of numbers\n",
    "\n",
    "# this is list\n",
    "series_list = list(range(1,100))\n",
    "series_list\n",
    "\n",
    "# create a series\n",
    "pd.Series(series_list)"
   ]
  },
  {
   "cell_type": "markdown",
   "metadata": {},
   "source": [
    "## Dataframe"
   ]
  },
  {
   "cell_type": "code",
   "execution_count": 64,
   "metadata": {},
   "outputs": [
    {
     "data": {
      "text/html": [
       "<div>\n",
       "<style scoped>\n",
       "    .dataframe tbody tr th:only-of-type {\n",
       "        vertical-align: middle;\n",
       "    }\n",
       "\n",
       "    .dataframe tbody tr th {\n",
       "        vertical-align: top;\n",
       "    }\n",
       "\n",
       "    .dataframe thead th {\n",
       "        text-align: right;\n",
       "    }\n",
       "</style>\n",
       "<table border=\"1\" class=\"dataframe\">\n",
       "  <thead>\n",
       "    <tr style=\"text-align: right;\">\n",
       "      <th></th>\n",
       "      <th>Column1</th>\n",
       "      <th>Column2</th>\n",
       "      <th>Column3</th>\n",
       "    </tr>\n",
       "  </thead>\n",
       "  <tbody>\n",
       "    <tr>\n",
       "      <th>0</th>\n",
       "      <td>0.280925</td>\n",
       "      <td>0.910368</td>\n",
       "      <td>0.692982</td>\n",
       "    </tr>\n",
       "    <tr>\n",
       "      <th>1</th>\n",
       "      <td>0.719882</td>\n",
       "      <td>0.210024</td>\n",
       "      <td>0.761276</td>\n",
       "    </tr>\n",
       "    <tr>\n",
       "      <th>2</th>\n",
       "      <td>0.235752</td>\n",
       "      <td>0.059796</td>\n",
       "      <td>0.154667</td>\n",
       "    </tr>\n",
       "    <tr>\n",
       "      <th>3</th>\n",
       "      <td>0.603366</td>\n",
       "      <td>0.485614</td>\n",
       "      <td>0.013345</td>\n",
       "    </tr>\n",
       "    <tr>\n",
       "      <th>4</th>\n",
       "      <td>0.039985</td>\n",
       "      <td>0.236359</td>\n",
       "      <td>0.811832</td>\n",
       "    </tr>\n",
       "    <tr>\n",
       "      <th>5</th>\n",
       "      <td>0.015478</td>\n",
       "      <td>0.543641</td>\n",
       "      <td>0.112719</td>\n",
       "    </tr>\n",
       "    <tr>\n",
       "      <th>6</th>\n",
       "      <td>0.192540</td>\n",
       "      <td>0.409874</td>\n",
       "      <td>0.875082</td>\n",
       "    </tr>\n",
       "    <tr>\n",
       "      <th>7</th>\n",
       "      <td>0.380921</td>\n",
       "      <td>0.045468</td>\n",
       "      <td>0.515859</td>\n",
       "    </tr>\n",
       "    <tr>\n",
       "      <th>8</th>\n",
       "      <td>0.592471</td>\n",
       "      <td>0.786421</td>\n",
       "      <td>0.047249</td>\n",
       "    </tr>\n",
       "    <tr>\n",
       "      <th>9</th>\n",
       "      <td>0.072112</td>\n",
       "      <td>0.695694</td>\n",
       "      <td>0.409573</td>\n",
       "    </tr>\n",
       "    <tr>\n",
       "      <th>10</th>\n",
       "      <td>0.898072</td>\n",
       "      <td>0.070956</td>\n",
       "      <td>0.209020</td>\n",
       "    </tr>\n",
       "    <tr>\n",
       "      <th>11</th>\n",
       "      <td>0.722038</td>\n",
       "      <td>0.211985</td>\n",
       "      <td>0.324164</td>\n",
       "    </tr>\n",
       "    <tr>\n",
       "      <th>12</th>\n",
       "      <td>0.513517</td>\n",
       "      <td>0.091548</td>\n",
       "      <td>0.664279</td>\n",
       "    </tr>\n",
       "    <tr>\n",
       "      <th>13</th>\n",
       "      <td>0.436729</td>\n",
       "      <td>0.040322</td>\n",
       "      <td>0.548167</td>\n",
       "    </tr>\n",
       "    <tr>\n",
       "      <th>14</th>\n",
       "      <td>0.864039</td>\n",
       "      <td>0.963556</td>\n",
       "      <td>0.106398</td>\n",
       "    </tr>\n",
       "    <tr>\n",
       "      <th>15</th>\n",
       "      <td>0.724761</td>\n",
       "      <td>0.410422</td>\n",
       "      <td>0.587589</td>\n",
       "    </tr>\n",
       "    <tr>\n",
       "      <th>16</th>\n",
       "      <td>0.198926</td>\n",
       "      <td>0.245207</td>\n",
       "      <td>0.767356</td>\n",
       "    </tr>\n",
       "    <tr>\n",
       "      <th>17</th>\n",
       "      <td>0.748500</td>\n",
       "      <td>0.019264</td>\n",
       "      <td>0.046678</td>\n",
       "    </tr>\n",
       "    <tr>\n",
       "      <th>18</th>\n",
       "      <td>0.920639</td>\n",
       "      <td>0.212611</td>\n",
       "      <td>0.520463</td>\n",
       "    </tr>\n",
       "    <tr>\n",
       "      <th>19</th>\n",
       "      <td>0.452024</td>\n",
       "      <td>0.123660</td>\n",
       "      <td>0.847451</td>\n",
       "    </tr>\n",
       "    <tr>\n",
       "      <th>20</th>\n",
       "      <td>0.542977</td>\n",
       "      <td>0.265852</td>\n",
       "      <td>0.410926</td>\n",
       "    </tr>\n",
       "    <tr>\n",
       "      <th>21</th>\n",
       "      <td>0.355266</td>\n",
       "      <td>0.860616</td>\n",
       "      <td>0.589431</td>\n",
       "    </tr>\n",
       "    <tr>\n",
       "      <th>22</th>\n",
       "      <td>0.142688</td>\n",
       "      <td>0.406456</td>\n",
       "      <td>0.204095</td>\n",
       "    </tr>\n",
       "    <tr>\n",
       "      <th>23</th>\n",
       "      <td>0.850436</td>\n",
       "      <td>0.129426</td>\n",
       "      <td>0.719027</td>\n",
       "    </tr>\n",
       "    <tr>\n",
       "      <th>24</th>\n",
       "      <td>0.443476</td>\n",
       "      <td>0.388967</td>\n",
       "      <td>0.596924</td>\n",
       "    </tr>\n",
       "    <tr>\n",
       "      <th>25</th>\n",
       "      <td>0.467100</td>\n",
       "      <td>0.416908</td>\n",
       "      <td>0.098037</td>\n",
       "    </tr>\n",
       "    <tr>\n",
       "      <th>26</th>\n",
       "      <td>0.338536</td>\n",
       "      <td>0.935814</td>\n",
       "      <td>0.736899</td>\n",
       "    </tr>\n",
       "    <tr>\n",
       "      <th>27</th>\n",
       "      <td>0.942101</td>\n",
       "      <td>0.772005</td>\n",
       "      <td>0.441574</td>\n",
       "    </tr>\n",
       "    <tr>\n",
       "      <th>28</th>\n",
       "      <td>0.570130</td>\n",
       "      <td>0.780085</td>\n",
       "      <td>0.085592</td>\n",
       "    </tr>\n",
       "  </tbody>\n",
       "</table>\n",
       "</div>"
      ],
      "text/plain": [
       "     Column1   Column2   Column3\n",
       "0   0.280925  0.910368  0.692982\n",
       "1   0.719882  0.210024  0.761276\n",
       "2   0.235752  0.059796  0.154667\n",
       "3   0.603366  0.485614  0.013345\n",
       "4   0.039985  0.236359  0.811832\n",
       "5   0.015478  0.543641  0.112719\n",
       "6   0.192540  0.409874  0.875082\n",
       "7   0.380921  0.045468  0.515859\n",
       "8   0.592471  0.786421  0.047249\n",
       "9   0.072112  0.695694  0.409573\n",
       "10  0.898072  0.070956  0.209020\n",
       "11  0.722038  0.211985  0.324164\n",
       "12  0.513517  0.091548  0.664279\n",
       "13  0.436729  0.040322  0.548167\n",
       "14  0.864039  0.963556  0.106398\n",
       "15  0.724761  0.410422  0.587589\n",
       "16  0.198926  0.245207  0.767356\n",
       "17  0.748500  0.019264  0.046678\n",
       "18  0.920639  0.212611  0.520463\n",
       "19  0.452024  0.123660  0.847451\n",
       "20  0.542977  0.265852  0.410926\n",
       "21  0.355266  0.860616  0.589431\n",
       "22  0.142688  0.406456  0.204095\n",
       "23  0.850436  0.129426  0.719027\n",
       "24  0.443476  0.388967  0.596924\n",
       "25  0.467100  0.416908  0.098037\n",
       "26  0.338536  0.935814  0.736899\n",
       "27  0.942101  0.772005  0.441574\n",
       "28  0.570130  0.780085  0.085592"
      ]
     },
     "execution_count": 64,
     "metadata": {},
     "output_type": "execute_result"
    }
   ],
   "source": [
    "# a dataframe is a couple of series stacked next to each other as columns\n",
    "# we use simple_csv data for this purpose\n",
    "\n",
    "import os\n",
    "import pandas as pd\n",
    "\n",
    "cwd = os.getcwd()\n",
    "filepath = cwd + \"/data - simple_csv.csv\"\n",
    "first_import = pd.read_csv(filepath)  # This reads the csv into Python\n",
    "first_import # this is a dataframe (there is an index column)\n"
   ]
  },
  {
   "cell_type": "markdown",
   "metadata": {},
   "source": [
    "## Columns"
   ]
  },
  {
   "cell_type": "code",
   "execution_count": 78,
   "metadata": {},
   "outputs": [
    {
     "data": {
      "text/plain": [
       "0     0.280925\n",
       "1     0.719882\n",
       "2     0.235752\n",
       "3     0.603366\n",
       "4     0.039985\n",
       "5     0.015478\n",
       "6     0.192540\n",
       "7     0.380921\n",
       "8     0.592471\n",
       "9     0.072112\n",
       "10    0.898072\n",
       "11    0.722038\n",
       "12    0.513517\n",
       "13    0.436729\n",
       "14    0.864039\n",
       "15    0.724761\n",
       "16    0.198926\n",
       "17    0.748500\n",
       "18    0.920639\n",
       "19    0.452024\n",
       "20    0.542977\n",
       "21    0.355266\n",
       "22    0.142688\n",
       "23    0.850436\n",
       "24    0.443476\n",
       "25    0.467100\n",
       "26    0.338536\n",
       "27    0.942101\n",
       "28    0.570130\n",
       "Name: Column1, dtype: float64"
      ]
     },
     "execution_count": 78,
     "metadata": {},
     "output_type": "execute_result"
    }
   ],
   "source": [
    "# you can use either of these techniques to specify a column in a table. \n",
    "# I prefer the second one because it allows your column names to have spaces in them\n",
    "\n",
    "first_import.Column1\n",
    "first_import[\"Column1\"]"
   ]
  },
  {
   "cell_type": "code",
   "execution_count": 76,
   "metadata": {},
   "outputs": [
    {
     "data": {
      "text/html": [
       "<div>\n",
       "<style scoped>\n",
       "    .dataframe tbody tr th:only-of-type {\n",
       "        vertical-align: middle;\n",
       "    }\n",
       "\n",
       "    .dataframe tbody tr th {\n",
       "        vertical-align: top;\n",
       "    }\n",
       "\n",
       "    .dataframe thead th {\n",
       "        text-align: right;\n",
       "    }\n",
       "</style>\n",
       "<table border=\"1\" class=\"dataframe\">\n",
       "  <thead>\n",
       "    <tr style=\"text-align: right;\">\n",
       "      <th></th>\n",
       "      <th>Column1</th>\n",
       "      <th>Column2</th>\n",
       "      <th>Column3</th>\n",
       "      <th>new_column_range</th>\n",
       "      <th>Adding Stuff</th>\n",
       "    </tr>\n",
       "  </thead>\n",
       "  <tbody>\n",
       "    <tr>\n",
       "      <th>0</th>\n",
       "      <td>0.280925</td>\n",
       "      <td>0.910368</td>\n",
       "      <td>0.692982</td>\n",
       "      <td>0</td>\n",
       "      <td>0.973907</td>\n",
       "    </tr>\n",
       "    <tr>\n",
       "      <th>1</th>\n",
       "      <td>0.719882</td>\n",
       "      <td>0.210024</td>\n",
       "      <td>0.761276</td>\n",
       "      <td>1</td>\n",
       "      <td>1.481158</td>\n",
       "    </tr>\n",
       "    <tr>\n",
       "      <th>2</th>\n",
       "      <td>0.235752</td>\n",
       "      <td>0.059796</td>\n",
       "      <td>0.154667</td>\n",
       "      <td>2</td>\n",
       "      <td>0.390419</td>\n",
       "    </tr>\n",
       "    <tr>\n",
       "      <th>3</th>\n",
       "      <td>0.603366</td>\n",
       "      <td>0.485614</td>\n",
       "      <td>0.013345</td>\n",
       "      <td>3</td>\n",
       "      <td>0.616711</td>\n",
       "    </tr>\n",
       "    <tr>\n",
       "      <th>4</th>\n",
       "      <td>0.039985</td>\n",
       "      <td>0.236359</td>\n",
       "      <td>0.811832</td>\n",
       "      <td>4</td>\n",
       "      <td>0.851816</td>\n",
       "    </tr>\n",
       "    <tr>\n",
       "      <th>5</th>\n",
       "      <td>0.015478</td>\n",
       "      <td>0.543641</td>\n",
       "      <td>0.112719</td>\n",
       "      <td>5</td>\n",
       "      <td>0.128197</td>\n",
       "    </tr>\n",
       "    <tr>\n",
       "      <th>6</th>\n",
       "      <td>0.192540</td>\n",
       "      <td>0.409874</td>\n",
       "      <td>0.875082</td>\n",
       "      <td>6</td>\n",
       "      <td>1.067622</td>\n",
       "    </tr>\n",
       "    <tr>\n",
       "      <th>7</th>\n",
       "      <td>0.380921</td>\n",
       "      <td>0.045468</td>\n",
       "      <td>0.515859</td>\n",
       "      <td>7</td>\n",
       "      <td>0.896780</td>\n",
       "    </tr>\n",
       "    <tr>\n",
       "      <th>8</th>\n",
       "      <td>0.592471</td>\n",
       "      <td>0.786421</td>\n",
       "      <td>0.047249</td>\n",
       "      <td>8</td>\n",
       "      <td>0.639721</td>\n",
       "    </tr>\n",
       "    <tr>\n",
       "      <th>9</th>\n",
       "      <td>0.072112</td>\n",
       "      <td>0.695694</td>\n",
       "      <td>0.409573</td>\n",
       "      <td>9</td>\n",
       "      <td>0.481685</td>\n",
       "    </tr>\n",
       "    <tr>\n",
       "      <th>10</th>\n",
       "      <td>0.898072</td>\n",
       "      <td>0.070956</td>\n",
       "      <td>0.209020</td>\n",
       "      <td>10</td>\n",
       "      <td>1.107093</td>\n",
       "    </tr>\n",
       "    <tr>\n",
       "      <th>11</th>\n",
       "      <td>0.722038</td>\n",
       "      <td>0.211985</td>\n",
       "      <td>0.324164</td>\n",
       "      <td>11</td>\n",
       "      <td>1.046201</td>\n",
       "    </tr>\n",
       "    <tr>\n",
       "      <th>12</th>\n",
       "      <td>0.513517</td>\n",
       "      <td>0.091548</td>\n",
       "      <td>0.664279</td>\n",
       "      <td>12</td>\n",
       "      <td>1.177795</td>\n",
       "    </tr>\n",
       "    <tr>\n",
       "      <th>13</th>\n",
       "      <td>0.436729</td>\n",
       "      <td>0.040322</td>\n",
       "      <td>0.548167</td>\n",
       "      <td>13</td>\n",
       "      <td>0.984896</td>\n",
       "    </tr>\n",
       "    <tr>\n",
       "      <th>14</th>\n",
       "      <td>0.864039</td>\n",
       "      <td>0.963556</td>\n",
       "      <td>0.106398</td>\n",
       "      <td>14</td>\n",
       "      <td>0.970438</td>\n",
       "    </tr>\n",
       "    <tr>\n",
       "      <th>15</th>\n",
       "      <td>0.724761</td>\n",
       "      <td>0.410422</td>\n",
       "      <td>0.587589</td>\n",
       "      <td>15</td>\n",
       "      <td>1.312350</td>\n",
       "    </tr>\n",
       "    <tr>\n",
       "      <th>16</th>\n",
       "      <td>0.198926</td>\n",
       "      <td>0.245207</td>\n",
       "      <td>0.767356</td>\n",
       "      <td>16</td>\n",
       "      <td>0.966282</td>\n",
       "    </tr>\n",
       "    <tr>\n",
       "      <th>17</th>\n",
       "      <td>0.748500</td>\n",
       "      <td>0.019264</td>\n",
       "      <td>0.046678</td>\n",
       "      <td>17</td>\n",
       "      <td>0.795178</td>\n",
       "    </tr>\n",
       "    <tr>\n",
       "      <th>18</th>\n",
       "      <td>0.920639</td>\n",
       "      <td>0.212611</td>\n",
       "      <td>0.520463</td>\n",
       "      <td>18</td>\n",
       "      <td>1.441103</td>\n",
       "    </tr>\n",
       "    <tr>\n",
       "      <th>19</th>\n",
       "      <td>0.452024</td>\n",
       "      <td>0.123660</td>\n",
       "      <td>0.847451</td>\n",
       "      <td>19</td>\n",
       "      <td>1.299475</td>\n",
       "    </tr>\n",
       "    <tr>\n",
       "      <th>20</th>\n",
       "      <td>0.542977</td>\n",
       "      <td>0.265852</td>\n",
       "      <td>0.410926</td>\n",
       "      <td>20</td>\n",
       "      <td>0.953903</td>\n",
       "    </tr>\n",
       "    <tr>\n",
       "      <th>21</th>\n",
       "      <td>0.355266</td>\n",
       "      <td>0.860616</td>\n",
       "      <td>0.589431</td>\n",
       "      <td>21</td>\n",
       "      <td>0.944697</td>\n",
       "    </tr>\n",
       "    <tr>\n",
       "      <th>22</th>\n",
       "      <td>0.142688</td>\n",
       "      <td>0.406456</td>\n",
       "      <td>0.204095</td>\n",
       "      <td>22</td>\n",
       "      <td>0.346783</td>\n",
       "    </tr>\n",
       "    <tr>\n",
       "      <th>23</th>\n",
       "      <td>0.850436</td>\n",
       "      <td>0.129426</td>\n",
       "      <td>0.719027</td>\n",
       "      <td>23</td>\n",
       "      <td>1.569464</td>\n",
       "    </tr>\n",
       "    <tr>\n",
       "      <th>24</th>\n",
       "      <td>0.443476</td>\n",
       "      <td>0.388967</td>\n",
       "      <td>0.596924</td>\n",
       "      <td>24</td>\n",
       "      <td>1.040399</td>\n",
       "    </tr>\n",
       "    <tr>\n",
       "      <th>25</th>\n",
       "      <td>0.467100</td>\n",
       "      <td>0.416908</td>\n",
       "      <td>0.098037</td>\n",
       "      <td>25</td>\n",
       "      <td>0.565137</td>\n",
       "    </tr>\n",
       "    <tr>\n",
       "      <th>26</th>\n",
       "      <td>0.338536</td>\n",
       "      <td>0.935814</td>\n",
       "      <td>0.736899</td>\n",
       "      <td>26</td>\n",
       "      <td>1.075435</td>\n",
       "    </tr>\n",
       "    <tr>\n",
       "      <th>27</th>\n",
       "      <td>0.942101</td>\n",
       "      <td>0.772005</td>\n",
       "      <td>0.441574</td>\n",
       "      <td>27</td>\n",
       "      <td>1.383675</td>\n",
       "    </tr>\n",
       "    <tr>\n",
       "      <th>28</th>\n",
       "      <td>0.570130</td>\n",
       "      <td>0.780085</td>\n",
       "      <td>0.085592</td>\n",
       "      <td>28</td>\n",
       "      <td>0.655722</td>\n",
       "    </tr>\n",
       "  </tbody>\n",
       "</table>\n",
       "</div>"
      ],
      "text/plain": [
       "     Column1   Column2   Column3  new_column_range  Adding Stuff\n",
       "0   0.280925  0.910368  0.692982                 0      0.973907\n",
       "1   0.719882  0.210024  0.761276                 1      1.481158\n",
       "2   0.235752  0.059796  0.154667                 2      0.390419\n",
       "3   0.603366  0.485614  0.013345                 3      0.616711\n",
       "4   0.039985  0.236359  0.811832                 4      0.851816\n",
       "5   0.015478  0.543641  0.112719                 5      0.128197\n",
       "6   0.192540  0.409874  0.875082                 6      1.067622\n",
       "7   0.380921  0.045468  0.515859                 7      0.896780\n",
       "8   0.592471  0.786421  0.047249                 8      0.639721\n",
       "9   0.072112  0.695694  0.409573                 9      0.481685\n",
       "10  0.898072  0.070956  0.209020                10      1.107093\n",
       "11  0.722038  0.211985  0.324164                11      1.046201\n",
       "12  0.513517  0.091548  0.664279                12      1.177795\n",
       "13  0.436729  0.040322  0.548167                13      0.984896\n",
       "14  0.864039  0.963556  0.106398                14      0.970438\n",
       "15  0.724761  0.410422  0.587589                15      1.312350\n",
       "16  0.198926  0.245207  0.767356                16      0.966282\n",
       "17  0.748500  0.019264  0.046678                17      0.795178\n",
       "18  0.920639  0.212611  0.520463                18      1.441103\n",
       "19  0.452024  0.123660  0.847451                19      1.299475\n",
       "20  0.542977  0.265852  0.410926                20      0.953903\n",
       "21  0.355266  0.860616  0.589431                21      0.944697\n",
       "22  0.142688  0.406456  0.204095                22      0.346783\n",
       "23  0.850436  0.129426  0.719027                23      1.569464\n",
       "24  0.443476  0.388967  0.596924                24      1.040399\n",
       "25  0.467100  0.416908  0.098037                25      0.565137\n",
       "26  0.338536  0.935814  0.736899                26      1.075435\n",
       "27  0.942101  0.772005  0.441574                27      1.383675\n",
       "28  0.570130  0.780085  0.085592                28      0.655722"
      ]
     },
     "execution_count": 76,
     "metadata": {},
     "output_type": "execute_result"
    }
   ],
   "source": [
    "# create and drop a column\n",
    "\n",
    "# You can specify a uniform value for every row\n",
    "first_import[\"new_column_uniform\"] = 1\n",
    "\n",
    "# You can pass a list of values that is as long as the DataFrame\n",
    "first_import[\"new_column_range\"] = range(29)\n",
    "\n",
    "# You can take a couple of columns and add their values together\n",
    "first_import[\"Adding Stuff\"] = first_import[\"Column3\"] + first_import[\"Column1\"]\n",
    "\n",
    "first_import_new = first_import.drop(columns=\"new_column_uniform\")\n",
    "\n",
    "# The \"drop\" method creates a copy of the DataFrame. If you want to change the original DataFrame either do what we did in the line above, or use the \"inplace\" argument\n",
    "first_import.drop(columns=\"new_column_uniform\", inplace=True)\n",
    "\n",
    "first_import\n",
    "first_import_new\n"
   ]
  },
  {
   "cell_type": "markdown",
   "metadata": {},
   "source": [
    "## Rows"
   ]
  },
  {
   "cell_type": "code",
   "execution_count": 88,
   "metadata": {},
   "outputs": [
    {
     "data": {
      "text/html": [
       "<div>\n",
       "<style scoped>\n",
       "    .dataframe tbody tr th:only-of-type {\n",
       "        vertical-align: middle;\n",
       "    }\n",
       "\n",
       "    .dataframe tbody tr th {\n",
       "        vertical-align: top;\n",
       "    }\n",
       "\n",
       "    .dataframe thead th {\n",
       "        text-align: right;\n",
       "    }\n",
       "</style>\n",
       "<table border=\"1\" class=\"dataframe\">\n",
       "  <thead>\n",
       "    <tr style=\"text-align: right;\">\n",
       "      <th></th>\n",
       "      <th>Column1</th>\n",
       "      <th>Column3</th>\n",
       "    </tr>\n",
       "  </thead>\n",
       "  <tbody>\n",
       "    <tr>\n",
       "      <th>0</th>\n",
       "      <td>0.280925</td>\n",
       "      <td>0.692982</td>\n",
       "    </tr>\n",
       "    <tr>\n",
       "      <th>1</th>\n",
       "      <td>0.719882</td>\n",
       "      <td>0.761276</td>\n",
       "    </tr>\n",
       "    <tr>\n",
       "      <th>2</th>\n",
       "      <td>0.235752</td>\n",
       "      <td>0.154667</td>\n",
       "    </tr>\n",
       "    <tr>\n",
       "      <th>3</th>\n",
       "      <td>0.603366</td>\n",
       "      <td>0.013345</td>\n",
       "    </tr>\n",
       "    <tr>\n",
       "      <th>4</th>\n",
       "      <td>0.039985</td>\n",
       "      <td>0.811832</td>\n",
       "    </tr>\n",
       "    <tr>\n",
       "      <th>5</th>\n",
       "      <td>0.015478</td>\n",
       "      <td>0.112719</td>\n",
       "    </tr>\n",
       "    <tr>\n",
       "      <th>6</th>\n",
       "      <td>0.192540</td>\n",
       "      <td>0.875082</td>\n",
       "    </tr>\n",
       "    <tr>\n",
       "      <th>7</th>\n",
       "      <td>0.380921</td>\n",
       "      <td>0.515859</td>\n",
       "    </tr>\n",
       "    <tr>\n",
       "      <th>8</th>\n",
       "      <td>0.592471</td>\n",
       "      <td>0.047249</td>\n",
       "    </tr>\n",
       "    <tr>\n",
       "      <th>9</th>\n",
       "      <td>0.072112</td>\n",
       "      <td>0.409573</td>\n",
       "    </tr>\n",
       "    <tr>\n",
       "      <th>10</th>\n",
       "      <td>0.898072</td>\n",
       "      <td>0.209020</td>\n",
       "    </tr>\n",
       "    <tr>\n",
       "      <th>11</th>\n",
       "      <td>0.722038</td>\n",
       "      <td>0.324164</td>\n",
       "    </tr>\n",
       "    <tr>\n",
       "      <th>12</th>\n",
       "      <td>0.513517</td>\n",
       "      <td>0.664279</td>\n",
       "    </tr>\n",
       "    <tr>\n",
       "      <th>13</th>\n",
       "      <td>0.436729</td>\n",
       "      <td>0.548167</td>\n",
       "    </tr>\n",
       "    <tr>\n",
       "      <th>14</th>\n",
       "      <td>0.864039</td>\n",
       "      <td>0.106398</td>\n",
       "    </tr>\n",
       "    <tr>\n",
       "      <th>15</th>\n",
       "      <td>0.724761</td>\n",
       "      <td>0.587589</td>\n",
       "    </tr>\n",
       "    <tr>\n",
       "      <th>16</th>\n",
       "      <td>0.198926</td>\n",
       "      <td>0.767356</td>\n",
       "    </tr>\n",
       "    <tr>\n",
       "      <th>17</th>\n",
       "      <td>0.748500</td>\n",
       "      <td>0.046678</td>\n",
       "    </tr>\n",
       "    <tr>\n",
       "      <th>18</th>\n",
       "      <td>0.920639</td>\n",
       "      <td>0.520463</td>\n",
       "    </tr>\n",
       "    <tr>\n",
       "      <th>19</th>\n",
       "      <td>0.452024</td>\n",
       "      <td>0.847451</td>\n",
       "    </tr>\n",
       "    <tr>\n",
       "      <th>20</th>\n",
       "      <td>0.542977</td>\n",
       "      <td>0.410926</td>\n",
       "    </tr>\n",
       "    <tr>\n",
       "      <th>21</th>\n",
       "      <td>0.355266</td>\n",
       "      <td>0.589431</td>\n",
       "    </tr>\n",
       "    <tr>\n",
       "      <th>22</th>\n",
       "      <td>0.142688</td>\n",
       "      <td>0.204095</td>\n",
       "    </tr>\n",
       "    <tr>\n",
       "      <th>23</th>\n",
       "      <td>0.850436</td>\n",
       "      <td>0.719027</td>\n",
       "    </tr>\n",
       "    <tr>\n",
       "      <th>24</th>\n",
       "      <td>0.443476</td>\n",
       "      <td>0.596924</td>\n",
       "    </tr>\n",
       "    <tr>\n",
       "      <th>25</th>\n",
       "      <td>0.467100</td>\n",
       "      <td>0.098037</td>\n",
       "    </tr>\n",
       "    <tr>\n",
       "      <th>26</th>\n",
       "      <td>0.338536</td>\n",
       "      <td>0.736899</td>\n",
       "    </tr>\n",
       "    <tr>\n",
       "      <th>27</th>\n",
       "      <td>0.942101</td>\n",
       "      <td>0.441574</td>\n",
       "    </tr>\n",
       "    <tr>\n",
       "      <th>28</th>\n",
       "      <td>0.570130</td>\n",
       "      <td>0.085592</td>\n",
       "    </tr>\n",
       "  </tbody>\n",
       "</table>\n",
       "</div>"
      ],
      "text/plain": [
       "     Column1   Column3\n",
       "0   0.280925  0.692982\n",
       "1   0.719882  0.761276\n",
       "2   0.235752  0.154667\n",
       "3   0.603366  0.013345\n",
       "4   0.039985  0.811832\n",
       "5   0.015478  0.112719\n",
       "6   0.192540  0.875082\n",
       "7   0.380921  0.515859\n",
       "8   0.592471  0.047249\n",
       "9   0.072112  0.409573\n",
       "10  0.898072  0.209020\n",
       "11  0.722038  0.324164\n",
       "12  0.513517  0.664279\n",
       "13  0.436729  0.548167\n",
       "14  0.864039  0.106398\n",
       "15  0.724761  0.587589\n",
       "16  0.198926  0.767356\n",
       "17  0.748500  0.046678\n",
       "18  0.920639  0.520463\n",
       "19  0.452024  0.847451\n",
       "20  0.542977  0.410926\n",
       "21  0.355266  0.589431\n",
       "22  0.142688  0.204095\n",
       "23  0.850436  0.719027\n",
       "24  0.443476  0.596924\n",
       "25  0.467100  0.098037\n",
       "26  0.338536  0.736899\n",
       "27  0.942101  0.441574\n",
       "28  0.570130  0.085592"
      ]
     },
     "execution_count": 88,
     "metadata": {},
     "output_type": "execute_result"
    }
   ],
   "source": [
    "# The `loc` method allows us to use the names of columns to specify them.\n",
    "# select all rows from Column1\n",
    "first_import.loc[:, \"Column1\"]\n",
    "\n",
    "# Select rows 0 through 4 INCLUSIVE (different from other Python indices) in Column1\n",
    "first_import.loc[0:4, \"Column1\"]\n",
    "\n",
    "# Select all rows in Column1 and Column2\n",
    "first_import.loc[:, [\"Column1\", \"new_column_range\"]]\n",
    "\n",
    "\n",
    "# An `iloc` query is based off of normal numerical indexing but operates mostly the same way:\n",
    "# Select all rows in Column1\n",
    "first_import.iloc[:, 1]  \n",
    "first_import.iloc[0:4, 1] # Select rows 0 through 4 excluding 4 (different from other Python indices) in Column1\n",
    "\n",
    "# Select rows 0 through 4 excluding 4 (different from other Python indices) in Column1\n",
    "first_import.iloc[0:4, 1]\n",
    "\n",
    "# Select all rows in Column1 and Column2\n",
    "first_import.iloc[:, 0:2]  \n",
    "\n",
    "# Select all rows in Column1 and Column3\n",
    "first_import.iloc[:, [0,2]]\n"
   ]
  },
  {
   "cell_type": "markdown",
   "metadata": {},
   "source": [
    "## Columns and filtering"
   ]
  },
  {
   "cell_type": "code",
   "execution_count": 101,
   "metadata": {},
   "outputs": [
    {
     "data": {
      "text/html": [
       "<div>\n",
       "<style scoped>\n",
       "    .dataframe tbody tr th:only-of-type {\n",
       "        vertical-align: middle;\n",
       "    }\n",
       "\n",
       "    .dataframe tbody tr th {\n",
       "        vertical-align: top;\n",
       "    }\n",
       "\n",
       "    .dataframe thead th {\n",
       "        text-align: right;\n",
       "    }\n",
       "</style>\n",
       "<table border=\"1\" class=\"dataframe\">\n",
       "  <thead>\n",
       "    <tr style=\"text-align: right;\">\n",
       "      <th></th>\n",
       "      <th>show_id</th>\n",
       "      <th>type</th>\n",
       "      <th>title</th>\n",
       "      <th>director</th>\n",
       "      <th>cast</th>\n",
       "      <th>country</th>\n",
       "      <th>date_added</th>\n",
       "      <th>release_year</th>\n",
       "      <th>rating</th>\n",
       "      <th>duration</th>\n",
       "      <th>listed_in</th>\n",
       "      <th>description</th>\n",
       "    </tr>\n",
       "  </thead>\n",
       "  <tbody>\n",
       "    <tr>\n",
       "      <th>2093</th>\n",
       "      <td>s2094</td>\n",
       "      <td>Movie</td>\n",
       "      <td>Fakkah Fuzz: Almost Banned</td>\n",
       "      <td>Michael McKay</td>\n",
       "      <td>Fakkah Fuzz</td>\n",
       "      <td>Singapore</td>\n",
       "      <td>January 26, 2018</td>\n",
       "      <td>2018</td>\n",
       "      <td>TV-MA</td>\n",
       "      <td>61 min</td>\n",
       "      <td>Stand-Up Comedy</td>\n",
       "      <td>Stand-up comic Fakkah Fuzz mines cross-cultura...</td>\n",
       "    </tr>\n",
       "    <tr>\n",
       "      <th>2956</th>\n",
       "      <td>s2957</td>\n",
       "      <td>Movie</td>\n",
       "      <td>Imperfect</td>\n",
       "      <td>Steve Cheng</td>\n",
       "      <td>Edwin Goh, Ian Fang Weijie, Phua Yida, Kimberl...</td>\n",
       "      <td>Singapore</td>\n",
       "      <td>December 20, 2018</td>\n",
       "      <td>2012</td>\n",
       "      <td>TV-MA</td>\n",
       "      <td>95 min</td>\n",
       "      <td>Action &amp; Adventure, International Movies</td>\n",
       "      <td>After a brawl lands him in a Boys’ Home, a tee...</td>\n",
       "    </tr>\n",
       "    <tr>\n",
       "      <th>3528</th>\n",
       "      <td>s3529</td>\n",
       "      <td>Movie</td>\n",
       "      <td>Lang Tong</td>\n",
       "      <td>Sam Loh</td>\n",
       "      <td>William Lawandi, Angeline Yap, Vivienne Tseng,...</td>\n",
       "      <td>Singapore</td>\n",
       "      <td>December 20, 2018</td>\n",
       "      <td>2015</td>\n",
       "      <td>TV-MA</td>\n",
       "      <td>82 min</td>\n",
       "      <td>International Movies, Thrillers</td>\n",
       "      <td>After seducing a philandering con man, a rebel...</td>\n",
       "    </tr>\n",
       "    <tr>\n",
       "      <th>4138</th>\n",
       "      <td>s4139</td>\n",
       "      <td>Movie</td>\n",
       "      <td>Miss J Contemplates Her Choice</td>\n",
       "      <td>Jason Lai</td>\n",
       "      <td>Kit Chan, Xiang Yun, Bobby Tonelli, Shane Pow,...</td>\n",
       "      <td>Singapore</td>\n",
       "      <td>December 20, 2018</td>\n",
       "      <td>2014</td>\n",
       "      <td>TV-MA</td>\n",
       "      <td>89 min</td>\n",
       "      <td>Dramas, International Movies, Thrillers</td>\n",
       "      <td>The life of a radio talk-show host is turned u...</td>\n",
       "    </tr>\n",
       "    <tr>\n",
       "      <th>6949</th>\n",
       "      <td>s6950</td>\n",
       "      <td>TV Show</td>\n",
       "      <td>The Truth Seekers</td>\n",
       "      <td>NaN</td>\n",
       "      <td>Chen Hanwei, Rebecca Lim, Desmond Tan, Yusuke ...</td>\n",
       "      <td>Singapore</td>\n",
       "      <td>July 1, 2017</td>\n",
       "      <td>2016</td>\n",
       "      <td>TV-MA</td>\n",
       "      <td>1 Season</td>\n",
       "      <td>Crime TV Shows, International TV Shows, TV Dramas</td>\n",
       "      <td>A veteran cop forms an agency dedicated to sol...</td>\n",
       "    </tr>\n",
       "  </tbody>\n",
       "</table>\n",
       "</div>"
      ],
      "text/plain": [
       "     show_id     type                           title       director  \\\n",
       "2093   s2094    Movie      Fakkah Fuzz: Almost Banned  Michael McKay   \n",
       "2956   s2957    Movie                       Imperfect    Steve Cheng   \n",
       "3528   s3529    Movie                       Lang Tong        Sam Loh   \n",
       "4138   s4139    Movie  Miss J Contemplates Her Choice      Jason Lai   \n",
       "6949   s6950  TV Show               The Truth Seekers            NaN   \n",
       "\n",
       "                                                   cast    country  \\\n",
       "2093                                        Fakkah Fuzz  Singapore   \n",
       "2956  Edwin Goh, Ian Fang Weijie, Phua Yida, Kimberl...  Singapore   \n",
       "3528  William Lawandi, Angeline Yap, Vivienne Tseng,...  Singapore   \n",
       "4138  Kit Chan, Xiang Yun, Bobby Tonelli, Shane Pow,...  Singapore   \n",
       "6949  Chen Hanwei, Rebecca Lim, Desmond Tan, Yusuke ...  Singapore   \n",
       "\n",
       "             date_added  release_year rating  duration  \\\n",
       "2093   January 26, 2018          2018  TV-MA    61 min   \n",
       "2956  December 20, 2018          2012  TV-MA    95 min   \n",
       "3528  December 20, 2018          2015  TV-MA    82 min   \n",
       "4138  December 20, 2018          2014  TV-MA    89 min   \n",
       "6949       July 1, 2017          2016  TV-MA  1 Season   \n",
       "\n",
       "                                              listed_in  \\\n",
       "2093                                    Stand-Up Comedy   \n",
       "2956           Action & Adventure, International Movies   \n",
       "3528                    International Movies, Thrillers   \n",
       "4138            Dramas, International Movies, Thrillers   \n",
       "6949  Crime TV Shows, International TV Shows, TV Dramas   \n",
       "\n",
       "                                            description  \n",
       "2093  Stand-up comic Fakkah Fuzz mines cross-cultura...  \n",
       "2956  After a brawl lands him in a Boys’ Home, a tee...  \n",
       "3528  After seducing a philandering con man, a rebel...  \n",
       "4138  The life of a radio talk-show host is turned u...  \n",
       "6949  A veteran cop forms an agency dedicated to sol...  "
      ]
     },
     "execution_count": 101,
     "metadata": {},
     "output_type": "execute_result"
    }
   ],
   "source": [
    "netflix = pd.read_csv(cwd + \"/data - netflix_titles.csv\")\n",
    "netflix\n",
    "\n",
    "# list out columns\n",
    "netflix.columns\n",
    "\n",
    "# basic descriptive statistics\n",
    "netflix.describe()\n",
    "\n",
    "# see unique values in a column\n",
    "netflix[\"type\"].unique()\n",
    "\n",
    "# filter a dataframe\n",
    "netflix[netflix[\"country\"]==\"Singapore\"]\n",
    "netflix[(netflix[\"country\"] == \"Singapore\") & (netflix[\"rating\"] == \"TV-MA\")]\n"
   ]
  },
  {
   "cell_type": "markdown",
   "metadata": {},
   "source": [
    "## DateTimes"
   ]
  },
  {
   "cell_type": "code",
   "execution_count": 110,
   "metadata": {},
   "outputs": [
    {
     "name": "stderr",
     "output_type": "stream",
     "text": [
      "/var/folders/jg/1ck3yxvn1sn72cwsg5c615740000gn/T/ipykernel_1763/3488847360.py:9: FutureWarning: casting datetime64[ns] values to int64 with .astype(...) is deprecated and will raise in a future version. Use .view(...) instead.\n",
      "  netflix[\"nix_time\"] = netflix[\"computer_date\"].astype(int)\n"
     ]
    },
    {
     "data": {
      "text/html": [
       "<div>\n",
       "<style scoped>\n",
       "    .dataframe tbody tr th:only-of-type {\n",
       "        vertical-align: middle;\n",
       "    }\n",
       "\n",
       "    .dataframe tbody tr th {\n",
       "        vertical-align: top;\n",
       "    }\n",
       "\n",
       "    .dataframe thead th {\n",
       "        text-align: right;\n",
       "    }\n",
       "</style>\n",
       "<table border=\"1\" class=\"dataframe\">\n",
       "  <thead>\n",
       "    <tr style=\"text-align: right;\">\n",
       "      <th></th>\n",
       "      <th>show_id</th>\n",
       "      <th>type</th>\n",
       "      <th>title</th>\n",
       "      <th>director</th>\n",
       "      <th>cast</th>\n",
       "      <th>country</th>\n",
       "      <th>date_added</th>\n",
       "      <th>release_year</th>\n",
       "      <th>rating</th>\n",
       "      <th>duration</th>\n",
       "      <th>listed_in</th>\n",
       "      <th>description</th>\n",
       "      <th>computer_date</th>\n",
       "      <th>nix_time</th>\n",
       "    </tr>\n",
       "  </thead>\n",
       "  <tbody>\n",
       "    <tr>\n",
       "      <th>0</th>\n",
       "      <td>s1</td>\n",
       "      <td>TV Show</td>\n",
       "      <td>3%</td>\n",
       "      <td>NaN</td>\n",
       "      <td>João Miguel, Bianca Comparato, Michel Gomes, R...</td>\n",
       "      <td>Brazil</td>\n",
       "      <td>August 14, 2020</td>\n",
       "      <td>2020</td>\n",
       "      <td>TV-MA</td>\n",
       "      <td>4 Seasons</td>\n",
       "      <td>International TV Shows, TV Dramas, TV Sci-Fi &amp;...</td>\n",
       "      <td>In a future where the elite inhabit an island ...</td>\n",
       "      <td>2020-08-14</td>\n",
       "      <td>1597363200000000000</td>\n",
       "    </tr>\n",
       "    <tr>\n",
       "      <th>1</th>\n",
       "      <td>s2</td>\n",
       "      <td>Movie</td>\n",
       "      <td>7:19</td>\n",
       "      <td>Jorge Michel Grau</td>\n",
       "      <td>Demián Bichir, Héctor Bonilla, Oscar Serrano, ...</td>\n",
       "      <td>Mexico</td>\n",
       "      <td>December 23, 2016</td>\n",
       "      <td>2016</td>\n",
       "      <td>TV-MA</td>\n",
       "      <td>93 min</td>\n",
       "      <td>Dramas, International Movies</td>\n",
       "      <td>After a devastating earthquake hits Mexico Cit...</td>\n",
       "      <td>2016-12-23</td>\n",
       "      <td>1482451200000000000</td>\n",
       "    </tr>\n",
       "    <tr>\n",
       "      <th>2</th>\n",
       "      <td>s3</td>\n",
       "      <td>Movie</td>\n",
       "      <td>23:59</td>\n",
       "      <td>Gilbert Chan</td>\n",
       "      <td>Tedd Chan, Stella Chung, Henley Hii, Lawrence ...</td>\n",
       "      <td>Singapore</td>\n",
       "      <td>December 20, 2018</td>\n",
       "      <td>2011</td>\n",
       "      <td>R</td>\n",
       "      <td>78 min</td>\n",
       "      <td>Horror Movies, International Movies</td>\n",
       "      <td>When an army recruit is found dead, his fellow...</td>\n",
       "      <td>2018-12-20</td>\n",
       "      <td>1545264000000000000</td>\n",
       "    </tr>\n",
       "    <tr>\n",
       "      <th>3</th>\n",
       "      <td>s4</td>\n",
       "      <td>Movie</td>\n",
       "      <td>9</td>\n",
       "      <td>Shane Acker</td>\n",
       "      <td>Elijah Wood, John C. Reilly, Jennifer Connelly...</td>\n",
       "      <td>United States</td>\n",
       "      <td>November 16, 2017</td>\n",
       "      <td>2009</td>\n",
       "      <td>PG-13</td>\n",
       "      <td>80 min</td>\n",
       "      <td>Action &amp; Adventure, Independent Movies, Sci-Fi...</td>\n",
       "      <td>In a postapocalyptic world, rag-doll robots hi...</td>\n",
       "      <td>2017-11-16</td>\n",
       "      <td>1510790400000000000</td>\n",
       "    </tr>\n",
       "    <tr>\n",
       "      <th>4</th>\n",
       "      <td>s5</td>\n",
       "      <td>Movie</td>\n",
       "      <td>21</td>\n",
       "      <td>Robert Luketic</td>\n",
       "      <td>Jim Sturgess, Kevin Spacey, Kate Bosworth, Aar...</td>\n",
       "      <td>United States</td>\n",
       "      <td>January 1, 2020</td>\n",
       "      <td>2008</td>\n",
       "      <td>PG-13</td>\n",
       "      <td>123 min</td>\n",
       "      <td>Dramas</td>\n",
       "      <td>A brilliant group of students become card-coun...</td>\n",
       "      <td>2020-01-01</td>\n",
       "      <td>1577836800000000000</td>\n",
       "    </tr>\n",
       "    <tr>\n",
       "      <th>...</th>\n",
       "      <td>...</td>\n",
       "      <td>...</td>\n",
       "      <td>...</td>\n",
       "      <td>...</td>\n",
       "      <td>...</td>\n",
       "      <td>...</td>\n",
       "      <td>...</td>\n",
       "      <td>...</td>\n",
       "      <td>...</td>\n",
       "      <td>...</td>\n",
       "      <td>...</td>\n",
       "      <td>...</td>\n",
       "      <td>...</td>\n",
       "      <td>...</td>\n",
       "    </tr>\n",
       "    <tr>\n",
       "      <th>7782</th>\n",
       "      <td>s7783</td>\n",
       "      <td>Movie</td>\n",
       "      <td>Zozo</td>\n",
       "      <td>Josef Fares</td>\n",
       "      <td>Imad Creidi, Antoinette Turk, Elias Gergi, Car...</td>\n",
       "      <td>Sweden, Czech Republic, United Kingdom, Denmar...</td>\n",
       "      <td>October 19, 2020</td>\n",
       "      <td>2005</td>\n",
       "      <td>TV-MA</td>\n",
       "      <td>99 min</td>\n",
       "      <td>Dramas, International Movies</td>\n",
       "      <td>When Lebanon's Civil War deprives Zozo of his ...</td>\n",
       "      <td>2020-10-19</td>\n",
       "      <td>1603065600000000000</td>\n",
       "    </tr>\n",
       "    <tr>\n",
       "      <th>7783</th>\n",
       "      <td>s7784</td>\n",
       "      <td>Movie</td>\n",
       "      <td>Zubaan</td>\n",
       "      <td>Mozez Singh</td>\n",
       "      <td>Vicky Kaushal, Sarah-Jane Dias, Raaghav Chanan...</td>\n",
       "      <td>India</td>\n",
       "      <td>March 2, 2019</td>\n",
       "      <td>2015</td>\n",
       "      <td>TV-14</td>\n",
       "      <td>111 min</td>\n",
       "      <td>Dramas, International Movies, Music &amp; Musicals</td>\n",
       "      <td>A scrappy but poor boy worms his way into a ty...</td>\n",
       "      <td>2019-03-02</td>\n",
       "      <td>1551484800000000000</td>\n",
       "    </tr>\n",
       "    <tr>\n",
       "      <th>7784</th>\n",
       "      <td>s7785</td>\n",
       "      <td>Movie</td>\n",
       "      <td>Zulu Man in Japan</td>\n",
       "      <td>NaN</td>\n",
       "      <td>Nasty C</td>\n",
       "      <td>NaN</td>\n",
       "      <td>September 25, 2020</td>\n",
       "      <td>2019</td>\n",
       "      <td>TV-MA</td>\n",
       "      <td>44 min</td>\n",
       "      <td>Documentaries, International Movies, Music &amp; M...</td>\n",
       "      <td>In this documentary, South African rapper Nast...</td>\n",
       "      <td>2020-09-25</td>\n",
       "      <td>1600992000000000000</td>\n",
       "    </tr>\n",
       "    <tr>\n",
       "      <th>7785</th>\n",
       "      <td>s7786</td>\n",
       "      <td>TV Show</td>\n",
       "      <td>Zumbo's Just Desserts</td>\n",
       "      <td>NaN</td>\n",
       "      <td>Adriano Zumbo, Rachel Khoo</td>\n",
       "      <td>Australia</td>\n",
       "      <td>October 31, 2020</td>\n",
       "      <td>2019</td>\n",
       "      <td>TV-PG</td>\n",
       "      <td>1 Season</td>\n",
       "      <td>International TV Shows, Reality TV</td>\n",
       "      <td>Dessert wizard Adriano Zumbo looks for the nex...</td>\n",
       "      <td>2020-10-31</td>\n",
       "      <td>1604102400000000000</td>\n",
       "    </tr>\n",
       "    <tr>\n",
       "      <th>7786</th>\n",
       "      <td>s7787</td>\n",
       "      <td>Movie</td>\n",
       "      <td>ZZ TOP: THAT LITTLE OL' BAND FROM TEXAS</td>\n",
       "      <td>Sam Dunn</td>\n",
       "      <td>NaN</td>\n",
       "      <td>United Kingdom, Canada, United States</td>\n",
       "      <td>March 1, 2020</td>\n",
       "      <td>2019</td>\n",
       "      <td>TV-MA</td>\n",
       "      <td>90 min</td>\n",
       "      <td>Documentaries, Music &amp; Musicals</td>\n",
       "      <td>This documentary delves into the mystique behi...</td>\n",
       "      <td>2020-03-01</td>\n",
       "      <td>1583020800000000000</td>\n",
       "    </tr>\n",
       "  </tbody>\n",
       "</table>\n",
       "<p>7787 rows × 14 columns</p>\n",
       "</div>"
      ],
      "text/plain": [
       "     show_id     type                                    title  \\\n",
       "0         s1  TV Show                                       3%   \n",
       "1         s2    Movie                                     7:19   \n",
       "2         s3    Movie                                    23:59   \n",
       "3         s4    Movie                                        9   \n",
       "4         s5    Movie                                       21   \n",
       "...      ...      ...                                      ...   \n",
       "7782   s7783    Movie                                     Zozo   \n",
       "7783   s7784    Movie                                   Zubaan   \n",
       "7784   s7785    Movie                        Zulu Man in Japan   \n",
       "7785   s7786  TV Show                    Zumbo's Just Desserts   \n",
       "7786   s7787    Movie  ZZ TOP: THAT LITTLE OL' BAND FROM TEXAS   \n",
       "\n",
       "               director                                               cast  \\\n",
       "0                   NaN  João Miguel, Bianca Comparato, Michel Gomes, R...   \n",
       "1     Jorge Michel Grau  Demián Bichir, Héctor Bonilla, Oscar Serrano, ...   \n",
       "2          Gilbert Chan  Tedd Chan, Stella Chung, Henley Hii, Lawrence ...   \n",
       "3           Shane Acker  Elijah Wood, John C. Reilly, Jennifer Connelly...   \n",
       "4        Robert Luketic  Jim Sturgess, Kevin Spacey, Kate Bosworth, Aar...   \n",
       "...                 ...                                                ...   \n",
       "7782        Josef Fares  Imad Creidi, Antoinette Turk, Elias Gergi, Car...   \n",
       "7783        Mozez Singh  Vicky Kaushal, Sarah-Jane Dias, Raaghav Chanan...   \n",
       "7784                NaN                                            Nasty C   \n",
       "7785                NaN                         Adriano Zumbo, Rachel Khoo   \n",
       "7786           Sam Dunn                                                NaN   \n",
       "\n",
       "                                                country          date_added  \\\n",
       "0                                                Brazil     August 14, 2020   \n",
       "1                                                Mexico   December 23, 2016   \n",
       "2                                             Singapore   December 20, 2018   \n",
       "3                                         United States   November 16, 2017   \n",
       "4                                         United States     January 1, 2020   \n",
       "...                                                 ...                 ...   \n",
       "7782  Sweden, Czech Republic, United Kingdom, Denmar...    October 19, 2020   \n",
       "7783                                              India       March 2, 2019   \n",
       "7784                                                NaN  September 25, 2020   \n",
       "7785                                          Australia    October 31, 2020   \n",
       "7786              United Kingdom, Canada, United States       March 1, 2020   \n",
       "\n",
       "      release_year rating   duration  \\\n",
       "0             2020  TV-MA  4 Seasons   \n",
       "1             2016  TV-MA     93 min   \n",
       "2             2011      R     78 min   \n",
       "3             2009  PG-13     80 min   \n",
       "4             2008  PG-13    123 min   \n",
       "...            ...    ...        ...   \n",
       "7782          2005  TV-MA     99 min   \n",
       "7783          2015  TV-14    111 min   \n",
       "7784          2019  TV-MA     44 min   \n",
       "7785          2019  TV-PG   1 Season   \n",
       "7786          2019  TV-MA     90 min   \n",
       "\n",
       "                                              listed_in  \\\n",
       "0     International TV Shows, TV Dramas, TV Sci-Fi &...   \n",
       "1                          Dramas, International Movies   \n",
       "2                   Horror Movies, International Movies   \n",
       "3     Action & Adventure, Independent Movies, Sci-Fi...   \n",
       "4                                                Dramas   \n",
       "...                                                 ...   \n",
       "7782                       Dramas, International Movies   \n",
       "7783     Dramas, International Movies, Music & Musicals   \n",
       "7784  Documentaries, International Movies, Music & M...   \n",
       "7785                 International TV Shows, Reality TV   \n",
       "7786                    Documentaries, Music & Musicals   \n",
       "\n",
       "                                            description computer_date  \\\n",
       "0     In a future where the elite inhabit an island ...    2020-08-14   \n",
       "1     After a devastating earthquake hits Mexico Cit...    2016-12-23   \n",
       "2     When an army recruit is found dead, his fellow...    2018-12-20   \n",
       "3     In a postapocalyptic world, rag-doll robots hi...    2017-11-16   \n",
       "4     A brilliant group of students become card-coun...    2020-01-01   \n",
       "...                                                 ...           ...   \n",
       "7782  When Lebanon's Civil War deprives Zozo of his ...    2020-10-19   \n",
       "7783  A scrappy but poor boy worms his way into a ty...    2019-03-02   \n",
       "7784  In this documentary, South African rapper Nast...    2020-09-25   \n",
       "7785  Dessert wizard Adriano Zumbo looks for the nex...    2020-10-31   \n",
       "7786  This documentary delves into the mystique behi...    2020-03-01   \n",
       "\n",
       "                 nix_time  \n",
       "0     1597363200000000000  \n",
       "1     1482451200000000000  \n",
       "2     1545264000000000000  \n",
       "3     1510790400000000000  \n",
       "4     1577836800000000000  \n",
       "...                   ...  \n",
       "7782  1603065600000000000  \n",
       "7783  1551484800000000000  \n",
       "7784  1600992000000000000  \n",
       "7785  1604102400000000000  \n",
       "7786  1583020800000000000  \n",
       "\n",
       "[7787 rows x 14 columns]"
      ]
     },
     "execution_count": 110,
     "metadata": {},
     "output_type": "execute_result"
    }
   ],
   "source": [
    "# transform date to computer date\n",
    "netflix[\"computer_date\"] = pd.to_datetime(netflix[\"date_added\"])\n",
    "\n",
    "# fill in NaT values\n",
    "import datetime\n",
    "netflix[\"computer_date\"].fillna(datetime.datetime(2020, 1, 1), inplace=True)\n",
    "\n",
    "# Unix Time (counts up for every second since 01-01-1970)\n",
    "netflix[\"nix_time\"] = netflix[\"computer_date\"].astype(int)\n",
    "netflix"
   ]
  },
  {
   "cell_type": "markdown",
   "metadata": {},
   "source": [
    "## Splitting and renaming columns + dealing with NaN"
   ]
  },
  {
   "cell_type": "code",
   "execution_count": 125,
   "metadata": {},
   "outputs": [
    {
     "name": "stderr",
     "output_type": "stream",
     "text": [
      "/Users/stanvanklink/opt/miniconda3/envs/minimal_ds/lib/python3.9/site-packages/pandas/core/generic.py:6392: SettingWithCopyWarning: \n",
      "A value is trying to be set on a copy of a slice from a DataFrame\n",
      "\n",
      "See the caveats in the documentation: https://pandas.pydata.org/pandas-docs/stable/user_guide/indexing.html#returning-a-view-versus-a-copy\n",
      "  return self._update_inplace(result)\n"
     ]
    }
   ],
   "source": [
    "# splitting a column\n",
    "netflix[[\"month_day\", \"year\"]] = netflix[\"date_added\"].str.split(\", \", expand=True)\n",
    "\n",
    "# renaming a column\n",
    "netflix.rename(columns={\"year\": \"year_adjusted\"}, inplace=True)\n",
    "\n",
    "# dealing with NaN\n",
    "netflix[\"cast\"].fillna(value=\"no cast\", inplace=True)\n"
   ]
  }
 ],
 "metadata": {
  "interpreter": {
   "hash": "782ddef903958b86d95e9a08b305c4b0549957147be54c254983ad7c0b674ea5"
  },
  "kernelspec": {
   "display_name": "Python 3.9.7 64-bit ('minimal_ds': conda)",
   "language": "python",
   "name": "python3"
  },
  "language_info": {
   "codemirror_mode": {
    "name": "ipython",
    "version": 3
   },
   "file_extension": ".py",
   "mimetype": "text/x-python",
   "name": "python",
   "nbconvert_exporter": "python",
   "pygments_lexer": "ipython3",
   "version": "3.9.7"
  },
  "orig_nbformat": 4
 },
 "nbformat": 4,
 "nbformat_minor": 2
}
